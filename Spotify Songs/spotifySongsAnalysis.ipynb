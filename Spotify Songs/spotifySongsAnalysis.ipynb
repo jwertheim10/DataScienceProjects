{
 "cells": [
  {
   "cell_type": "markdown",
   "metadata": {},
   "source": [
    "# Spotify Songs"
   ]
  },
  {
   "cell_type": "markdown",
   "metadata": {},
   "source": [
    "- Link to dataset: https://www.kaggle.com/datasets/arnavvvvv/spotify-music/data\n",
    "- Data columns:\n",
    "    - track_name: Name of the song\n",
    "    - artist(s)_name: Name of the artist of the song\n",
    "    - artist_count: Number of artists contributing to the song\n",
    "    - released_year: Year when the song was released\n",
    "    - released_month: Month the song was released\n",
    "    - released_day: Day the song was released\n",
    "    - in_spotify_playlists: Number of Spotify playlists the song is included in\n",
    "    - in_spotify_charts: Presence and rank of the song on Spotify charts\n",
    "    - streams: Total number of streams on Spotify\n",
    "    - in_apple_playlists: Number of Apple Music playlists the song is included in\n",
    "    - in_apple_charts: Presence and rank of the song on Apple Music charts\n",
    "    - in_deezer_playlists: Number of Deezer playlists the song is included in\n",
    "    - in_deezer_charts: Presence and rank of the song on Deezer charts\n",
    "    - in_shazam_charts: Presence and rank of the song on Shazam charts\n",
    "    - bpm: Beats per minute of the song\n",
    "    - key: Key that the song is played in\n",
    "    - mode: Major or minor keys\n",
    "    - danceability_%: A spotify metric to determine the danceability of a song\n",
    "    - valence_%: A spotify metric to determine the happiness of a song\n",
    "    - energy_%: A spotify metric to determine the energy of a song\n",
    "    - acousticness_%: A spotify metric to determine the acousticness of a song\n",
    "    - instrumentalness_%: A spotify metric to determine whether a song is purely instrumentals. A value close above 50 represents a prediction of instrumentals\n",
    "    - liveness_%: A spotify metric that detects the presence of an audience in the recording.\n",
    "    - speechiness_%: A spotify metric that detects the presence of spoken words in a track."
   ]
  },
  {
   "cell_type": "code",
   "execution_count": 2,
   "metadata": {},
   "outputs": [
    {
     "ename": "ModuleNotFoundError",
     "evalue": "No module named 'pandas'",
     "output_type": "error",
     "traceback": [
      "\u001b[0;31m---------------------------------------------------------------------------\u001b[0m",
      "\u001b[0;31mModuleNotFoundError\u001b[0m                       Traceback (most recent call last)",
      "Cell \u001b[0;32mIn[2], line 2\u001b[0m\n\u001b[1;32m      1\u001b[0m \u001b[38;5;66;03m#Import our necessary libraries\u001b[39;00m\n\u001b[0;32m----> 2\u001b[0m \u001b[38;5;28;01mimport\u001b[39;00m \u001b[38;5;21;01mpandas\u001b[39;00m \u001b[38;5;28;01mas\u001b[39;00m \u001b[38;5;21;01mpd\u001b[39;00m\n\u001b[1;32m      3\u001b[0m \u001b[38;5;28;01mimport\u001b[39;00m \u001b[38;5;21;01mnumpy\u001b[39;00m \u001b[38;5;28;01mas\u001b[39;00m \u001b[38;5;21;01mnp\u001b[39;00m\n\u001b[1;32m      4\u001b[0m \u001b[38;5;28;01mimport\u001b[39;00m \u001b[38;5;21;01mseaborn\u001b[39;00m \u001b[38;5;28;01mas\u001b[39;00m \u001b[38;5;21;01msns\u001b[39;00m\n",
      "\u001b[0;31mModuleNotFoundError\u001b[0m: No module named 'pandas'"
     ]
    }
   ],
   "source": [
    "#Import our necessary libraries\n",
    "import pandas as pd\n",
    "import numpy as np\n",
    "import seaborn as sns\n",
    "import matplotlib.pyplot as plt\n",
    "%matplotlib inline"
   ]
  },
  {
   "cell_type": "code",
   "execution_count": null,
   "metadata": {},
   "outputs": [],
   "source": []
  }
 ],
 "metadata": {
  "kernelspec": {
   "display_name": "Python 3.12.1 64-bit",
   "language": "python",
   "name": "python3"
  },
  "language_info": {
   "codemirror_mode": {
    "name": "ipython",
    "version": 3
   },
   "file_extension": ".py",
   "mimetype": "text/x-python",
   "name": "python",
   "nbconvert_exporter": "python",
   "pygments_lexer": "ipython3",
   "version": "3.12.1"
  },
  "orig_nbformat": 4,
  "vscode": {
   "interpreter": {
    "hash": "aee8b7b246df8f9039afb4144a1f6fd8d2ca17a180786b69acc140d282b71a49"
   }
  }
 },
 "nbformat": 4,
 "nbformat_minor": 2
}
