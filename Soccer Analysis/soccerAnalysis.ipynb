{
 "cells": [
  {
   "cell_type": "markdown",
   "metadata": {},
   "source": [
    "# Premier League Predictions"
   ]
  },
  {
   "cell_type": "markdown",
   "metadata": {},
   "source": [
    "- Link to dataset: https://www.kaggle.com/datasets/ferrariboy4k/top5leagues\n",
    "- Data columns: \n",
    "    - Div — League Division\n",
    "    - Date — Match Date\n",
    "    - HomeTeam, AwayTeam — Home and Away Team\n",
    "    - HTOa, ATOa — Teams FIFA Overall Rating\n",
    "    - HTAt, ATAt — Teams FIFA Attack Rating\n",
    "    - HTMid, ATMid — Teams FIFA Midfield Rating\n",
    "    - HTDef, ATDef — Teams FIFA Defence Rating\n",
    "    - HomeSquad, AwaySquad — Teams Number of players\n",
    "    - HomeAvgAge, AwayAvgAge — Teams Average Age of players\n",
    "    - HomeMV, AwayMV — Teams Total Market Value\n",
    "    - FTHG, FTAG — Full Time Teams Goals\n",
    "    - FTR — Full Time Result (H=Home Win, D=Draw, A=Away Win)\n",
    "    - HTHG, HTAG — Half Time Teams Goals\n",
    "    - HTR — Half Time Result (H=Home Win, D=Draw, A=Away Win)\n",
    "    - HS, AS — Teams Shots\n",
    "    - HST, AST — Teams Shots on Target\n",
    "    - HF, AF — Teams Fouls\n",
    "    - HC, AC — Teams Corners\n",
    "    - HY, AY — Teams Yellow Cards\n",
    "    - HR, AR — Teams Red Cards\n",
    "    - HxG, AxG — Teams Expected Goals\n",
    "    - HxA, AxA — Teams Expected Goals After Key Passes\n",
    "    - HxPTS, AxPTS — Teams Expected Points\n",
    "    - HPPDA, APPDA — Teams passes allowed per defensive action in the opposition half\n",
    "    - B365H, B365D, B365A — Bet365 odds\n",
    "    - BWH, BWD, BWA — Bet&Win odds\n",
    "    - IWH, IWD, IWA — Interwetten odds\n",
    "    - PSH, PSD, PSA — Pinnacle odds\n",
    "    - WHH, WHD, WHA — William Hill odds\n",
    "    - VCH, VCD, VCA — VC Bet odds\n",
    "    - PSCH, PSCD, PSCA — PSC odds"
   ]
  },
  {
   "cell_type": "code",
   "execution_count": 118,
   "metadata": {},
   "outputs": [],
   "source": [
    "#Import our necessary libraries\n",
    "import pandas as pd\n",
    "import numpy as np\n",
    "import seaborn as sns\n",
    "import matplotlib.pyplot as plt\n",
    "%matplotlib inline"
   ]
  },
  {
   "cell_type": "code",
   "execution_count": 119,
   "metadata": {},
   "outputs": [
    {
     "data": {
      "text/html": [
       "<div>\n",
       "<style scoped>\n",
       "    .dataframe tbody tr th:only-of-type {\n",
       "        vertical-align: middle;\n",
       "    }\n",
       "\n",
       "    .dataframe tbody tr th {\n",
       "        vertical-align: top;\n",
       "    }\n",
       "\n",
       "    .dataframe thead th {\n",
       "        text-align: right;\n",
       "    }\n",
       "</style>\n",
       "<table border=\"1\" class=\"dataframe\">\n",
       "  <thead>\n",
       "    <tr style=\"text-align: right;\">\n",
       "      <th></th>\n",
       "      <th>Div</th>\n",
       "      <th>Date</th>\n",
       "      <th>HomeTeam</th>\n",
       "      <th>AwayTeam</th>\n",
       "      <th>HTOa</th>\n",
       "      <th>ATOa</th>\n",
       "      <th>HTAt</th>\n",
       "      <th>ATAt</th>\n",
       "      <th>HTMid</th>\n",
       "      <th>ATMid</th>\n",
       "      <th>...</th>\n",
       "      <th>PSA</th>\n",
       "      <th>WHH</th>\n",
       "      <th>WHD</th>\n",
       "      <th>WHA</th>\n",
       "      <th>VCH</th>\n",
       "      <th>VCD</th>\n",
       "      <th>VCA</th>\n",
       "      <th>PSCH</th>\n",
       "      <th>PSCD</th>\n",
       "      <th>PSCA</th>\n",
       "    </tr>\n",
       "  </thead>\n",
       "  <tbody>\n",
       "    <tr>\n",
       "      <th>0</th>\n",
       "      <td>E0</td>\n",
       "      <td>2021-08-13</td>\n",
       "      <td>Brentford</td>\n",
       "      <td>Arsenal</td>\n",
       "      <td>73</td>\n",
       "      <td>79</td>\n",
       "      <td>73</td>\n",
       "      <td>82</td>\n",
       "      <td>73</td>\n",
       "      <td>80</td>\n",
       "      <td>...</td>\n",
       "      <td>2.05</td>\n",
       "      <td>4.00</td>\n",
       "      <td>3.40</td>\n",
       "      <td>1.90</td>\n",
       "      <td>4.10</td>\n",
       "      <td>3.40</td>\n",
       "      <td>2.00</td>\n",
       "      <td>3.94</td>\n",
       "      <td>3.33</td>\n",
       "      <td>2.13</td>\n",
       "    </tr>\n",
       "    <tr>\n",
       "      <th>1</th>\n",
       "      <td>E0</td>\n",
       "      <td>2021-08-14</td>\n",
       "      <td>Manchester United</td>\n",
       "      <td>Leeds</td>\n",
       "      <td>83</td>\n",
       "      <td>76</td>\n",
       "      <td>83</td>\n",
       "      <td>78</td>\n",
       "      <td>84</td>\n",
       "      <td>77</td>\n",
       "      <td>...</td>\n",
       "      <td>5.96</td>\n",
       "      <td>1.52</td>\n",
       "      <td>4.33</td>\n",
       "      <td>5.80</td>\n",
       "      <td>1.55</td>\n",
       "      <td>4.40</td>\n",
       "      <td>6.00</td>\n",
       "      <td>1.67</td>\n",
       "      <td>4.20</td>\n",
       "      <td>5.40</td>\n",
       "    </tr>\n",
       "    <tr>\n",
       "      <th>2</th>\n",
       "      <td>E0</td>\n",
       "      <td>2021-08-14</td>\n",
       "      <td>Burnley</td>\n",
       "      <td>Brighton</td>\n",
       "      <td>76</td>\n",
       "      <td>75</td>\n",
       "      <td>75</td>\n",
       "      <td>75</td>\n",
       "      <td>76</td>\n",
       "      <td>75</td>\n",
       "      <td>...</td>\n",
       "      <td>2.51</td>\n",
       "      <td>3.20</td>\n",
       "      <td>3.00</td>\n",
       "      <td>2.45</td>\n",
       "      <td>3.13</td>\n",
       "      <td>3.10</td>\n",
       "      <td>2.45</td>\n",
       "      <td>3.27</td>\n",
       "      <td>3.14</td>\n",
       "      <td>2.51</td>\n",
       "    </tr>\n",
       "    <tr>\n",
       "      <th>3</th>\n",
       "      <td>E0</td>\n",
       "      <td>2021-08-14</td>\n",
       "      <td>Chelsea</td>\n",
       "      <td>Crystal Palace</td>\n",
       "      <td>83</td>\n",
       "      <td>76</td>\n",
       "      <td>84</td>\n",
       "      <td>77</td>\n",
       "      <td>85</td>\n",
       "      <td>75</td>\n",
       "      <td>...</td>\n",
       "      <td>12.74</td>\n",
       "      <td>1.25</td>\n",
       "      <td>5.50</td>\n",
       "      <td>13.00</td>\n",
       "      <td>1.25</td>\n",
       "      <td>5.75</td>\n",
       "      <td>13.00</td>\n",
       "      <td>1.34</td>\n",
       "      <td>5.40</td>\n",
       "      <td>11.00</td>\n",
       "    </tr>\n",
       "    <tr>\n",
       "      <th>4</th>\n",
       "      <td>E0</td>\n",
       "      <td>2021-08-14</td>\n",
       "      <td>Everton</td>\n",
       "      <td>Southampton</td>\n",
       "      <td>79</td>\n",
       "      <td>76</td>\n",
       "      <td>80</td>\n",
       "      <td>76</td>\n",
       "      <td>79</td>\n",
       "      <td>76</td>\n",
       "      <td>...</td>\n",
       "      <td>4.10</td>\n",
       "      <td>1.95</td>\n",
       "      <td>3.40</td>\n",
       "      <td>4.00</td>\n",
       "      <td>1.95</td>\n",
       "      <td>3.40</td>\n",
       "      <td>4.10</td>\n",
       "      <td>2.05</td>\n",
       "      <td>3.45</td>\n",
       "      <td>4.07</td>\n",
       "    </tr>\n",
       "  </tbody>\n",
       "</table>\n",
       "<p>5 rows × 65 columns</p>\n",
       "</div>"
      ],
      "text/plain": [
       "  Div        Date           HomeTeam        AwayTeam  HTOa  ATOa  HTAt  ATAt   \n",
       "0  E0  2021-08-13          Brentford         Arsenal    73    79    73    82  \\\n",
       "1  E0  2021-08-14  Manchester United           Leeds    83    76    83    78   \n",
       "2  E0  2021-08-14            Burnley        Brighton    76    75    75    75   \n",
       "3  E0  2021-08-14            Chelsea  Crystal Palace    83    76    84    77   \n",
       "4  E0  2021-08-14            Everton     Southampton    79    76    80    76   \n",
       "\n",
       "   HTMid  ATMid  ...    PSA   WHH   WHD    WHA   VCH   VCD    VCA  PSCH  PSCD   \n",
       "0     73     80  ...   2.05  4.00  3.40   1.90  4.10  3.40   2.00  3.94  3.33  \\\n",
       "1     84     77  ...   5.96  1.52  4.33   5.80  1.55  4.40   6.00  1.67  4.20   \n",
       "2     76     75  ...   2.51  3.20  3.00   2.45  3.13  3.10   2.45  3.27  3.14   \n",
       "3     85     75  ...  12.74  1.25  5.50  13.00  1.25  5.75  13.00  1.34  5.40   \n",
       "4     79     76  ...   4.10  1.95  3.40   4.00  1.95  3.40   4.10  2.05  3.45   \n",
       "\n",
       "    PSCA  \n",
       "0   2.13  \n",
       "1   5.40  \n",
       "2   2.51  \n",
       "3  11.00  \n",
       "4   4.07  \n",
       "\n",
       "[5 rows x 65 columns]"
      ]
     },
     "execution_count": 119,
     "metadata": {},
     "output_type": "execute_result"
    }
   ],
   "source": [
    "epl_data = pd.read_csv('Data/EPL 2021-2022.csv')\n",
    "epl_data.head()"
   ]
  },
  {
   "cell_type": "code",
   "execution_count": 120,
   "metadata": {},
   "outputs": [
    {
     "data": {
      "text/html": [
       "<div>\n",
       "<style scoped>\n",
       "    .dataframe tbody tr th:only-of-type {\n",
       "        vertical-align: middle;\n",
       "    }\n",
       "\n",
       "    .dataframe tbody tr th {\n",
       "        vertical-align: top;\n",
       "    }\n",
       "\n",
       "    .dataframe thead th {\n",
       "        text-align: right;\n",
       "    }\n",
       "</style>\n",
       "<table border=\"1\" class=\"dataframe\">\n",
       "  <thead>\n",
       "    <tr style=\"text-align: right;\">\n",
       "      <th></th>\n",
       "      <th>count</th>\n",
       "      <th>mean</th>\n",
       "      <th>std</th>\n",
       "      <th>min</th>\n",
       "      <th>25%</th>\n",
       "      <th>50%</th>\n",
       "      <th>75%</th>\n",
       "      <th>max</th>\n",
       "    </tr>\n",
       "  </thead>\n",
       "  <tbody>\n",
       "    <tr>\n",
       "      <th>HTOa</th>\n",
       "      <td>380.0</td>\n",
       "      <td>78.450000</td>\n",
       "      <td>3.446558</td>\n",
       "      <td>73.00</td>\n",
       "      <td>76.0000</td>\n",
       "      <td>78.000</td>\n",
       "      <td>80.2500</td>\n",
       "      <td>85.00</td>\n",
       "    </tr>\n",
       "    <tr>\n",
       "      <th>ATOa</th>\n",
       "      <td>380.0</td>\n",
       "      <td>78.460526</td>\n",
       "      <td>3.434424</td>\n",
       "      <td>73.00</td>\n",
       "      <td>76.0000</td>\n",
       "      <td>78.000</td>\n",
       "      <td>80.2500</td>\n",
       "      <td>85.00</td>\n",
       "    </tr>\n",
       "    <tr>\n",
       "      <th>HTAt</th>\n",
       "      <td>380.0</td>\n",
       "      <td>79.373684</td>\n",
       "      <td>3.820144</td>\n",
       "      <td>71.00</td>\n",
       "      <td>77.0000</td>\n",
       "      <td>78.000</td>\n",
       "      <td>83.0000</td>\n",
       "      <td>90.00</td>\n",
       "    </tr>\n",
       "    <tr>\n",
       "      <th>ATAt</th>\n",
       "      <td>380.0</td>\n",
       "      <td>79.323684</td>\n",
       "      <td>3.757556</td>\n",
       "      <td>71.00</td>\n",
       "      <td>76.0000</td>\n",
       "      <td>78.000</td>\n",
       "      <td>82.0000</td>\n",
       "      <td>90.00</td>\n",
       "    </tr>\n",
       "    <tr>\n",
       "      <th>HTMid</th>\n",
       "      <td>380.0</td>\n",
       "      <td>78.594737</td>\n",
       "      <td>3.779402</td>\n",
       "      <td>73.00</td>\n",
       "      <td>76.0000</td>\n",
       "      <td>78.000</td>\n",
       "      <td>81.0000</td>\n",
       "      <td>87.00</td>\n",
       "    </tr>\n",
       "    <tr>\n",
       "      <th>ATMid</th>\n",
       "      <td>380.0</td>\n",
       "      <td>78.589474</td>\n",
       "      <td>3.747280</td>\n",
       "      <td>73.00</td>\n",
       "      <td>76.0000</td>\n",
       "      <td>78.000</td>\n",
       "      <td>81.0000</td>\n",
       "      <td>87.00</td>\n",
       "    </tr>\n",
       "    <tr>\n",
       "      <th>HTDef</th>\n",
       "      <td>380.0</td>\n",
       "      <td>77.757895</td>\n",
       "      <td>3.510905</td>\n",
       "      <td>72.00</td>\n",
       "      <td>75.0000</td>\n",
       "      <td>77.000</td>\n",
       "      <td>79.0000</td>\n",
       "      <td>86.00</td>\n",
       "    </tr>\n",
       "    <tr>\n",
       "      <th>ATDef</th>\n",
       "      <td>380.0</td>\n",
       "      <td>77.794737</td>\n",
       "      <td>3.503481</td>\n",
       "      <td>72.00</td>\n",
       "      <td>75.0000</td>\n",
       "      <td>77.000</td>\n",
       "      <td>79.0000</td>\n",
       "      <td>86.00</td>\n",
       "    </tr>\n",
       "    <tr>\n",
       "      <th>HomeSquad</th>\n",
       "      <td>380.0</td>\n",
       "      <td>40.200000</td>\n",
       "      <td>4.713647</td>\n",
       "      <td>33.00</td>\n",
       "      <td>35.7500</td>\n",
       "      <td>40.500</td>\n",
       "      <td>44.0000</td>\n",
       "      <td>49.00</td>\n",
       "    </tr>\n",
       "    <tr>\n",
       "      <th>AwaySquad</th>\n",
       "      <td>380.0</td>\n",
       "      <td>40.200000</td>\n",
       "      <td>4.713647</td>\n",
       "      <td>33.00</td>\n",
       "      <td>35.7500</td>\n",
       "      <td>40.500</td>\n",
       "      <td>44.0000</td>\n",
       "      <td>49.00</td>\n",
       "    </tr>\n",
       "    <tr>\n",
       "      <th>HomeAvgAge</th>\n",
       "      <td>380.0</td>\n",
       "      <td>24.600000</td>\n",
       "      <td>1.115021</td>\n",
       "      <td>23.00</td>\n",
       "      <td>24.0000</td>\n",
       "      <td>24.500</td>\n",
       "      <td>25.0000</td>\n",
       "      <td>27.00</td>\n",
       "    </tr>\n",
       "    <tr>\n",
       "      <th>AwayAvgAge</th>\n",
       "      <td>380.0</td>\n",
       "      <td>24.600000</td>\n",
       "      <td>1.115021</td>\n",
       "      <td>23.00</td>\n",
       "      <td>24.0000</td>\n",
       "      <td>24.500</td>\n",
       "      <td>25.0000</td>\n",
       "      <td>27.00</td>\n",
       "    </tr>\n",
       "    <tr>\n",
       "      <th>HomeMV</th>\n",
       "      <td>380.0</td>\n",
       "      <td>466.880000</td>\n",
       "      <td>261.043040</td>\n",
       "      <td>138.05</td>\n",
       "      <td>274.0500</td>\n",
       "      <td>365.925</td>\n",
       "      <td>632.1250</td>\n",
       "      <td>1000.00</td>\n",
       "    </tr>\n",
       "    <tr>\n",
       "      <th>AwayMV</th>\n",
       "      <td>380.0</td>\n",
       "      <td>466.880000</td>\n",
       "      <td>261.043040</td>\n",
       "      <td>138.05</td>\n",
       "      <td>274.0500</td>\n",
       "      <td>365.925</td>\n",
       "      <td>632.1250</td>\n",
       "      <td>1000.00</td>\n",
       "    </tr>\n",
       "    <tr>\n",
       "      <th>FTHG</th>\n",
       "      <td>380.0</td>\n",
       "      <td>1.513158</td>\n",
       "      <td>1.326545</td>\n",
       "      <td>0.00</td>\n",
       "      <td>1.0000</td>\n",
       "      <td>1.000</td>\n",
       "      <td>2.0000</td>\n",
       "      <td>7.00</td>\n",
       "    </tr>\n",
       "    <tr>\n",
       "      <th>FTAG</th>\n",
       "      <td>380.0</td>\n",
       "      <td>1.305263</td>\n",
       "      <td>1.258836</td>\n",
       "      <td>0.00</td>\n",
       "      <td>0.0000</td>\n",
       "      <td>1.000</td>\n",
       "      <td>2.0000</td>\n",
       "      <td>6.00</td>\n",
       "    </tr>\n",
       "    <tr>\n",
       "      <th>HTHG</th>\n",
       "      <td>380.0</td>\n",
       "      <td>0.681579</td>\n",
       "      <td>0.832187</td>\n",
       "      <td>0.00</td>\n",
       "      <td>0.0000</td>\n",
       "      <td>0.000</td>\n",
       "      <td>1.0000</td>\n",
       "      <td>4.00</td>\n",
       "    </tr>\n",
       "    <tr>\n",
       "      <th>HTAG</th>\n",
       "      <td>380.0</td>\n",
       "      <td>0.589474</td>\n",
       "      <td>0.808853</td>\n",
       "      <td>0.00</td>\n",
       "      <td>0.0000</td>\n",
       "      <td>0.000</td>\n",
       "      <td>1.0000</td>\n",
       "      <td>4.00</td>\n",
       "    </tr>\n",
       "    <tr>\n",
       "      <th>HS</th>\n",
       "      <td>380.0</td>\n",
       "      <td>13.847368</td>\n",
       "      <td>5.661784</td>\n",
       "      <td>3.00</td>\n",
       "      <td>9.0000</td>\n",
       "      <td>13.500</td>\n",
       "      <td>17.0000</td>\n",
       "      <td>31.00</td>\n",
       "    </tr>\n",
       "    <tr>\n",
       "      <th>AS</th>\n",
       "      <td>380.0</td>\n",
       "      <td>11.736842</td>\n",
       "      <td>5.348460</td>\n",
       "      <td>1.00</td>\n",
       "      <td>8.0000</td>\n",
       "      <td>11.000</td>\n",
       "      <td>15.0000</td>\n",
       "      <td>31.00</td>\n",
       "    </tr>\n",
       "    <tr>\n",
       "      <th>HST</th>\n",
       "      <td>380.0</td>\n",
       "      <td>4.678947</td>\n",
       "      <td>2.600402</td>\n",
       "      <td>0.00</td>\n",
       "      <td>3.0000</td>\n",
       "      <td>4.000</td>\n",
       "      <td>6.0000</td>\n",
       "      <td>15.00</td>\n",
       "    </tr>\n",
       "    <tr>\n",
       "      <th>AST</th>\n",
       "      <td>380.0</td>\n",
       "      <td>4.142105</td>\n",
       "      <td>2.589978</td>\n",
       "      <td>0.00</td>\n",
       "      <td>2.0000</td>\n",
       "      <td>4.000</td>\n",
       "      <td>6.0000</td>\n",
       "      <td>14.00</td>\n",
       "    </tr>\n",
       "    <tr>\n",
       "      <th>HF</th>\n",
       "      <td>380.0</td>\n",
       "      <td>10.055263</td>\n",
       "      <td>3.444180</td>\n",
       "      <td>1.00</td>\n",
       "      <td>8.0000</td>\n",
       "      <td>10.000</td>\n",
       "      <td>12.0000</td>\n",
       "      <td>22.00</td>\n",
       "    </tr>\n",
       "    <tr>\n",
       "      <th>AF</th>\n",
       "      <td>380.0</td>\n",
       "      <td>10.157895</td>\n",
       "      <td>3.718501</td>\n",
       "      <td>2.00</td>\n",
       "      <td>7.0000</td>\n",
       "      <td>10.000</td>\n",
       "      <td>12.2500</td>\n",
       "      <td>25.00</td>\n",
       "    </tr>\n",
       "    <tr>\n",
       "      <th>HC</th>\n",
       "      <td>380.0</td>\n",
       "      <td>5.602632</td>\n",
       "      <td>3.029755</td>\n",
       "      <td>0.00</td>\n",
       "      <td>3.0000</td>\n",
       "      <td>5.000</td>\n",
       "      <td>7.0000</td>\n",
       "      <td>15.00</td>\n",
       "    </tr>\n",
       "    <tr>\n",
       "      <th>AC</th>\n",
       "      <td>380.0</td>\n",
       "      <td>4.821053</td>\n",
       "      <td>2.735399</td>\n",
       "      <td>0.00</td>\n",
       "      <td>3.0000</td>\n",
       "      <td>5.000</td>\n",
       "      <td>7.0000</td>\n",
       "      <td>13.00</td>\n",
       "    </tr>\n",
       "    <tr>\n",
       "      <th>HY</th>\n",
       "      <td>380.0</td>\n",
       "      <td>1.652632</td>\n",
       "      <td>1.258373</td>\n",
       "      <td>0.00</td>\n",
       "      <td>1.0000</td>\n",
       "      <td>1.500</td>\n",
       "      <td>2.0000</td>\n",
       "      <td>6.00</td>\n",
       "    </tr>\n",
       "    <tr>\n",
       "      <th>AY</th>\n",
       "      <td>380.0</td>\n",
       "      <td>1.744737</td>\n",
       "      <td>1.230912</td>\n",
       "      <td>0.00</td>\n",
       "      <td>1.0000</td>\n",
       "      <td>2.000</td>\n",
       "      <td>3.0000</td>\n",
       "      <td>5.00</td>\n",
       "    </tr>\n",
       "    <tr>\n",
       "      <th>HR</th>\n",
       "      <td>380.0</td>\n",
       "      <td>0.050000</td>\n",
       "      <td>0.230005</td>\n",
       "      <td>0.00</td>\n",
       "      <td>0.0000</td>\n",
       "      <td>0.000</td>\n",
       "      <td>0.0000</td>\n",
       "      <td>2.00</td>\n",
       "    </tr>\n",
       "    <tr>\n",
       "      <th>AR</th>\n",
       "      <td>380.0</td>\n",
       "      <td>0.063158</td>\n",
       "      <td>0.243567</td>\n",
       "      <td>0.00</td>\n",
       "      <td>0.0000</td>\n",
       "      <td>0.000</td>\n",
       "      <td>0.0000</td>\n",
       "      <td>1.00</td>\n",
       "    </tr>\n",
       "    <tr>\n",
       "      <th>HxG</th>\n",
       "      <td>380.0</td>\n",
       "      <td>1.559974</td>\n",
       "      <td>0.911739</td>\n",
       "      <td>0.06</td>\n",
       "      <td>0.8400</td>\n",
       "      <td>1.425</td>\n",
       "      <td>2.1600</td>\n",
       "      <td>5.33</td>\n",
       "    </tr>\n",
       "    <tr>\n",
       "      <th>AxG</th>\n",
       "      <td>380.0</td>\n",
       "      <td>1.278816</td>\n",
       "      <td>0.881918</td>\n",
       "      <td>0.03</td>\n",
       "      <td>0.6000</td>\n",
       "      <td>1.085</td>\n",
       "      <td>1.7675</td>\n",
       "      <td>4.45</td>\n",
       "    </tr>\n",
       "    <tr>\n",
       "      <th>HxA</th>\n",
       "      <td>380.0</td>\n",
       "      <td>1.116368</td>\n",
       "      <td>0.737381</td>\n",
       "      <td>0.02</td>\n",
       "      <td>0.5800</td>\n",
       "      <td>0.935</td>\n",
       "      <td>1.4900</td>\n",
       "      <td>3.81</td>\n",
       "    </tr>\n",
       "    <tr>\n",
       "      <th>AxA</th>\n",
       "      <td>380.0</td>\n",
       "      <td>0.934737</td>\n",
       "      <td>0.710271</td>\n",
       "      <td>0.00</td>\n",
       "      <td>0.4300</td>\n",
       "      <td>0.770</td>\n",
       "      <td>1.2125</td>\n",
       "      <td>4.16</td>\n",
       "    </tr>\n",
       "    <tr>\n",
       "      <th>HxPTS</th>\n",
       "      <td>380.0</td>\n",
       "      <td>1.569026</td>\n",
       "      <td>0.893961</td>\n",
       "      <td>0.01</td>\n",
       "      <td>0.8100</td>\n",
       "      <td>1.540</td>\n",
       "      <td>2.4000</td>\n",
       "      <td>3.00</td>\n",
       "    </tr>\n",
       "    <tr>\n",
       "      <th>AxPTS</th>\n",
       "      <td>380.0</td>\n",
       "      <td>1.218342</td>\n",
       "      <td>0.876257</td>\n",
       "      <td>0.00</td>\n",
       "      <td>0.4075</td>\n",
       "      <td>1.150</td>\n",
       "      <td>1.9025</td>\n",
       "      <td>2.99</td>\n",
       "    </tr>\n",
       "    <tr>\n",
       "      <th>HPPDA</th>\n",
       "      <td>380.0</td>\n",
       "      <td>13.035421</td>\n",
       "      <td>8.170710</td>\n",
       "      <td>3.60</td>\n",
       "      <td>7.6725</td>\n",
       "      <td>10.820</td>\n",
       "      <td>15.6250</td>\n",
       "      <td>77.75</td>\n",
       "    </tr>\n",
       "    <tr>\n",
       "      <th>APPDA</th>\n",
       "      <td>380.0</td>\n",
       "      <td>14.116053</td>\n",
       "      <td>9.154894</td>\n",
       "      <td>3.34</td>\n",
       "      <td>8.1600</td>\n",
       "      <td>11.665</td>\n",
       "      <td>16.7100</td>\n",
       "      <td>71.00</td>\n",
       "    </tr>\n",
       "    <tr>\n",
       "      <th>B365H</th>\n",
       "      <td>380.0</td>\n",
       "      <td>3.041026</td>\n",
       "      <td>2.380071</td>\n",
       "      <td>1.08</td>\n",
       "      <td>1.6100</td>\n",
       "      <td>2.275</td>\n",
       "      <td>3.3000</td>\n",
       "      <td>19.00</td>\n",
       "    </tr>\n",
       "    <tr>\n",
       "      <th>B365D</th>\n",
       "      <td>380.0</td>\n",
       "      <td>4.240237</td>\n",
       "      <td>1.379412</td>\n",
       "      <td>2.80</td>\n",
       "      <td>3.4000</td>\n",
       "      <td>3.750</td>\n",
       "      <td>4.5000</td>\n",
       "      <td>11.00</td>\n",
       "    </tr>\n",
       "    <tr>\n",
       "      <th>B365A</th>\n",
       "      <td>380.0</td>\n",
       "      <td>4.690079</td>\n",
       "      <td>4.230893</td>\n",
       "      <td>1.14</td>\n",
       "      <td>2.2375</td>\n",
       "      <td>3.250</td>\n",
       "      <td>5.5000</td>\n",
       "      <td>26.00</td>\n",
       "    </tr>\n",
       "    <tr>\n",
       "      <th>BWH</th>\n",
       "      <td>380.0</td>\n",
       "      <td>3.026105</td>\n",
       "      <td>2.372764</td>\n",
       "      <td>1.11</td>\n",
       "      <td>1.6300</td>\n",
       "      <td>2.300</td>\n",
       "      <td>3.3000</td>\n",
       "      <td>18.00</td>\n",
       "    </tr>\n",
       "    <tr>\n",
       "      <th>BWD</th>\n",
       "      <td>380.0</td>\n",
       "      <td>4.218237</td>\n",
       "      <td>1.347697</td>\n",
       "      <td>2.95</td>\n",
       "      <td>3.4000</td>\n",
       "      <td>3.700</td>\n",
       "      <td>4.5000</td>\n",
       "      <td>10.00</td>\n",
       "    </tr>\n",
       "    <tr>\n",
       "      <th>BWA</th>\n",
       "      <td>380.0</td>\n",
       "      <td>4.639263</td>\n",
       "      <td>4.264799</td>\n",
       "      <td>1.17</td>\n",
       "      <td>2.2000</td>\n",
       "      <td>3.200</td>\n",
       "      <td>5.5000</td>\n",
       "      <td>23.00</td>\n",
       "    </tr>\n",
       "    <tr>\n",
       "      <th>IWH</th>\n",
       "      <td>380.0</td>\n",
       "      <td>3.029289</td>\n",
       "      <td>2.348604</td>\n",
       "      <td>1.12</td>\n",
       "      <td>1.6500</td>\n",
       "      <td>2.300</td>\n",
       "      <td>3.2125</td>\n",
       "      <td>18.00</td>\n",
       "    </tr>\n",
       "    <tr>\n",
       "      <th>IWD</th>\n",
       "      <td>380.0</td>\n",
       "      <td>4.202500</td>\n",
       "      <td>1.303507</td>\n",
       "      <td>3.05</td>\n",
       "      <td>3.4000</td>\n",
       "      <td>3.700</td>\n",
       "      <td>4.5250</td>\n",
       "      <td>9.50</td>\n",
       "    </tr>\n",
       "    <tr>\n",
       "      <th>IWA</th>\n",
       "      <td>380.0</td>\n",
       "      <td>4.561711</td>\n",
       "      <td>4.005687</td>\n",
       "      <td>1.15</td>\n",
       "      <td>2.2500</td>\n",
       "      <td>3.175</td>\n",
       "      <td>5.2500</td>\n",
       "      <td>22.00</td>\n",
       "    </tr>\n",
       "    <tr>\n",
       "      <th>PSH</th>\n",
       "      <td>380.0</td>\n",
       "      <td>3.165289</td>\n",
       "      <td>2.587414</td>\n",
       "      <td>1.11</td>\n",
       "      <td>1.6700</td>\n",
       "      <td>2.370</td>\n",
       "      <td>3.3575</td>\n",
       "      <td>18.96</td>\n",
       "    </tr>\n",
       "    <tr>\n",
       "      <th>PSD</th>\n",
       "      <td>380.0</td>\n",
       "      <td>4.341921</td>\n",
       "      <td>1.448272</td>\n",
       "      <td>3.05</td>\n",
       "      <td>3.4600</td>\n",
       "      <td>3.775</td>\n",
       "      <td>4.5700</td>\n",
       "      <td>11.28</td>\n",
       "    </tr>\n",
       "    <tr>\n",
       "      <th>PSA</th>\n",
       "      <td>380.0</td>\n",
       "      <td>5.011500</td>\n",
       "      <td>4.860372</td>\n",
       "      <td>1.17</td>\n",
       "      <td>2.2775</td>\n",
       "      <td>3.310</td>\n",
       "      <td>5.7600</td>\n",
       "      <td>27.79</td>\n",
       "    </tr>\n",
       "    <tr>\n",
       "      <th>WHH</th>\n",
       "      <td>380.0</td>\n",
       "      <td>3.064579</td>\n",
       "      <td>2.473830</td>\n",
       "      <td>1.08</td>\n",
       "      <td>1.6300</td>\n",
       "      <td>2.300</td>\n",
       "      <td>3.2125</td>\n",
       "      <td>17.00</td>\n",
       "    </tr>\n",
       "    <tr>\n",
       "      <th>WHD</th>\n",
       "      <td>380.0</td>\n",
       "      <td>4.064316</td>\n",
       "      <td>1.211134</td>\n",
       "      <td>2.90</td>\n",
       "      <td>3.3000</td>\n",
       "      <td>3.600</td>\n",
       "      <td>4.3300</td>\n",
       "      <td>10.00</td>\n",
       "    </tr>\n",
       "    <tr>\n",
       "      <th>WHA</th>\n",
       "      <td>380.0</td>\n",
       "      <td>4.798974</td>\n",
       "      <td>4.530138</td>\n",
       "      <td>1.15</td>\n",
       "      <td>2.2500</td>\n",
       "      <td>3.225</td>\n",
       "      <td>5.5000</td>\n",
       "      <td>26.00</td>\n",
       "    </tr>\n",
       "    <tr>\n",
       "      <th>VCH</th>\n",
       "      <td>380.0</td>\n",
       "      <td>3.088105</td>\n",
       "      <td>2.598797</td>\n",
       "      <td>1.07</td>\n",
       "      <td>1.6200</td>\n",
       "      <td>2.250</td>\n",
       "      <td>3.2500</td>\n",
       "      <td>19.00</td>\n",
       "    </tr>\n",
       "    <tr>\n",
       "      <th>VCD</th>\n",
       "      <td>380.0</td>\n",
       "      <td>4.131026</td>\n",
       "      <td>1.370661</td>\n",
       "      <td>2.90</td>\n",
       "      <td>3.3000</td>\n",
       "      <td>3.600</td>\n",
       "      <td>4.4000</td>\n",
       "      <td>10.50</td>\n",
       "    </tr>\n",
       "    <tr>\n",
       "      <th>VCA</th>\n",
       "      <td>380.0</td>\n",
       "      <td>4.840711</td>\n",
       "      <td>4.688215</td>\n",
       "      <td>1.13</td>\n",
       "      <td>2.2000</td>\n",
       "      <td>3.200</td>\n",
       "      <td>5.5000</td>\n",
       "      <td>26.00</td>\n",
       "    </tr>\n",
       "    <tr>\n",
       "      <th>PSCH</th>\n",
       "      <td>380.0</td>\n",
       "      <td>3.192026</td>\n",
       "      <td>2.684001</td>\n",
       "      <td>1.10</td>\n",
       "      <td>1.6900</td>\n",
       "      <td>2.355</td>\n",
       "      <td>3.5450</td>\n",
       "      <td>23.50</td>\n",
       "    </tr>\n",
       "    <tr>\n",
       "      <th>PSCD</th>\n",
       "      <td>380.0</td>\n",
       "      <td>4.335763</td>\n",
       "      <td>1.513152</td>\n",
       "      <td>3.00</td>\n",
       "      <td>3.4275</td>\n",
       "      <td>3.730</td>\n",
       "      <td>4.5600</td>\n",
       "      <td>12.00</td>\n",
       "    </tr>\n",
       "    <tr>\n",
       "      <th>PSCA</th>\n",
       "      <td>380.0</td>\n",
       "      <td>4.981974</td>\n",
       "      <td>4.710213</td>\n",
       "      <td>1.13</td>\n",
       "      <td>2.2375</td>\n",
       "      <td>3.380</td>\n",
       "      <td>5.5425</td>\n",
       "      <td>31.00</td>\n",
       "    </tr>\n",
       "  </tbody>\n",
       "</table>\n",
       "</div>"
      ],
      "text/plain": [
       "            count        mean         std     min       25%      50%   \n",
       "HTOa        380.0   78.450000    3.446558   73.00   76.0000   78.000  \\\n",
       "ATOa        380.0   78.460526    3.434424   73.00   76.0000   78.000   \n",
       "HTAt        380.0   79.373684    3.820144   71.00   77.0000   78.000   \n",
       "ATAt        380.0   79.323684    3.757556   71.00   76.0000   78.000   \n",
       "HTMid       380.0   78.594737    3.779402   73.00   76.0000   78.000   \n",
       "ATMid       380.0   78.589474    3.747280   73.00   76.0000   78.000   \n",
       "HTDef       380.0   77.757895    3.510905   72.00   75.0000   77.000   \n",
       "ATDef       380.0   77.794737    3.503481   72.00   75.0000   77.000   \n",
       "HomeSquad   380.0   40.200000    4.713647   33.00   35.7500   40.500   \n",
       "AwaySquad   380.0   40.200000    4.713647   33.00   35.7500   40.500   \n",
       "HomeAvgAge  380.0   24.600000    1.115021   23.00   24.0000   24.500   \n",
       "AwayAvgAge  380.0   24.600000    1.115021   23.00   24.0000   24.500   \n",
       "HomeMV      380.0  466.880000  261.043040  138.05  274.0500  365.925   \n",
       "AwayMV      380.0  466.880000  261.043040  138.05  274.0500  365.925   \n",
       "FTHG        380.0    1.513158    1.326545    0.00    1.0000    1.000   \n",
       "FTAG        380.0    1.305263    1.258836    0.00    0.0000    1.000   \n",
       "HTHG        380.0    0.681579    0.832187    0.00    0.0000    0.000   \n",
       "HTAG        380.0    0.589474    0.808853    0.00    0.0000    0.000   \n",
       "HS          380.0   13.847368    5.661784    3.00    9.0000   13.500   \n",
       "AS          380.0   11.736842    5.348460    1.00    8.0000   11.000   \n",
       "HST         380.0    4.678947    2.600402    0.00    3.0000    4.000   \n",
       "AST         380.0    4.142105    2.589978    0.00    2.0000    4.000   \n",
       "HF          380.0   10.055263    3.444180    1.00    8.0000   10.000   \n",
       "AF          380.0   10.157895    3.718501    2.00    7.0000   10.000   \n",
       "HC          380.0    5.602632    3.029755    0.00    3.0000    5.000   \n",
       "AC          380.0    4.821053    2.735399    0.00    3.0000    5.000   \n",
       "HY          380.0    1.652632    1.258373    0.00    1.0000    1.500   \n",
       "AY          380.0    1.744737    1.230912    0.00    1.0000    2.000   \n",
       "HR          380.0    0.050000    0.230005    0.00    0.0000    0.000   \n",
       "AR          380.0    0.063158    0.243567    0.00    0.0000    0.000   \n",
       "HxG         380.0    1.559974    0.911739    0.06    0.8400    1.425   \n",
       "AxG         380.0    1.278816    0.881918    0.03    0.6000    1.085   \n",
       "HxA         380.0    1.116368    0.737381    0.02    0.5800    0.935   \n",
       "AxA         380.0    0.934737    0.710271    0.00    0.4300    0.770   \n",
       "HxPTS       380.0    1.569026    0.893961    0.01    0.8100    1.540   \n",
       "AxPTS       380.0    1.218342    0.876257    0.00    0.4075    1.150   \n",
       "HPPDA       380.0   13.035421    8.170710    3.60    7.6725   10.820   \n",
       "APPDA       380.0   14.116053    9.154894    3.34    8.1600   11.665   \n",
       "B365H       380.0    3.041026    2.380071    1.08    1.6100    2.275   \n",
       "B365D       380.0    4.240237    1.379412    2.80    3.4000    3.750   \n",
       "B365A       380.0    4.690079    4.230893    1.14    2.2375    3.250   \n",
       "BWH         380.0    3.026105    2.372764    1.11    1.6300    2.300   \n",
       "BWD         380.0    4.218237    1.347697    2.95    3.4000    3.700   \n",
       "BWA         380.0    4.639263    4.264799    1.17    2.2000    3.200   \n",
       "IWH         380.0    3.029289    2.348604    1.12    1.6500    2.300   \n",
       "IWD         380.0    4.202500    1.303507    3.05    3.4000    3.700   \n",
       "IWA         380.0    4.561711    4.005687    1.15    2.2500    3.175   \n",
       "PSH         380.0    3.165289    2.587414    1.11    1.6700    2.370   \n",
       "PSD         380.0    4.341921    1.448272    3.05    3.4600    3.775   \n",
       "PSA         380.0    5.011500    4.860372    1.17    2.2775    3.310   \n",
       "WHH         380.0    3.064579    2.473830    1.08    1.6300    2.300   \n",
       "WHD         380.0    4.064316    1.211134    2.90    3.3000    3.600   \n",
       "WHA         380.0    4.798974    4.530138    1.15    2.2500    3.225   \n",
       "VCH         380.0    3.088105    2.598797    1.07    1.6200    2.250   \n",
       "VCD         380.0    4.131026    1.370661    2.90    3.3000    3.600   \n",
       "VCA         380.0    4.840711    4.688215    1.13    2.2000    3.200   \n",
       "PSCH        380.0    3.192026    2.684001    1.10    1.6900    2.355   \n",
       "PSCD        380.0    4.335763    1.513152    3.00    3.4275    3.730   \n",
       "PSCA        380.0    4.981974    4.710213    1.13    2.2375    3.380   \n",
       "\n",
       "                 75%      max  \n",
       "HTOa         80.2500    85.00  \n",
       "ATOa         80.2500    85.00  \n",
       "HTAt         83.0000    90.00  \n",
       "ATAt         82.0000    90.00  \n",
       "HTMid        81.0000    87.00  \n",
       "ATMid        81.0000    87.00  \n",
       "HTDef        79.0000    86.00  \n",
       "ATDef        79.0000    86.00  \n",
       "HomeSquad    44.0000    49.00  \n",
       "AwaySquad    44.0000    49.00  \n",
       "HomeAvgAge   25.0000    27.00  \n",
       "AwayAvgAge   25.0000    27.00  \n",
       "HomeMV      632.1250  1000.00  \n",
       "AwayMV      632.1250  1000.00  \n",
       "FTHG          2.0000     7.00  \n",
       "FTAG          2.0000     6.00  \n",
       "HTHG          1.0000     4.00  \n",
       "HTAG          1.0000     4.00  \n",
       "HS           17.0000    31.00  \n",
       "AS           15.0000    31.00  \n",
       "HST           6.0000    15.00  \n",
       "AST           6.0000    14.00  \n",
       "HF           12.0000    22.00  \n",
       "AF           12.2500    25.00  \n",
       "HC            7.0000    15.00  \n",
       "AC            7.0000    13.00  \n",
       "HY            2.0000     6.00  \n",
       "AY            3.0000     5.00  \n",
       "HR            0.0000     2.00  \n",
       "AR            0.0000     1.00  \n",
       "HxG           2.1600     5.33  \n",
       "AxG           1.7675     4.45  \n",
       "HxA           1.4900     3.81  \n",
       "AxA           1.2125     4.16  \n",
       "HxPTS         2.4000     3.00  \n",
       "AxPTS         1.9025     2.99  \n",
       "HPPDA        15.6250    77.75  \n",
       "APPDA        16.7100    71.00  \n",
       "B365H         3.3000    19.00  \n",
       "B365D         4.5000    11.00  \n",
       "B365A         5.5000    26.00  \n",
       "BWH           3.3000    18.00  \n",
       "BWD           4.5000    10.00  \n",
       "BWA           5.5000    23.00  \n",
       "IWH           3.2125    18.00  \n",
       "IWD           4.5250     9.50  \n",
       "IWA           5.2500    22.00  \n",
       "PSH           3.3575    18.96  \n",
       "PSD           4.5700    11.28  \n",
       "PSA           5.7600    27.79  \n",
       "WHH           3.2125    17.00  \n",
       "WHD           4.3300    10.00  \n",
       "WHA           5.5000    26.00  \n",
       "VCH           3.2500    19.00  \n",
       "VCD           4.4000    10.50  \n",
       "VCA           5.5000    26.00  \n",
       "PSCH          3.5450    23.50  \n",
       "PSCD          4.5600    12.00  \n",
       "PSCA          5.5425    31.00  "
      ]
     },
     "execution_count": 120,
     "metadata": {},
     "output_type": "execute_result"
    }
   ],
   "source": [
    "epl_data.describe().transpose()"
   ]
  },
  {
   "cell_type": "code",
   "execution_count": 121,
   "metadata": {},
   "outputs": [
    {
     "data": {
      "text/plain": [
       "Index(['Div', 'Date', 'HomeTeam', 'AwayTeam', 'HTOa', 'ATOa', 'HTAt', 'ATAt',\n",
       "       'HTMid', 'ATMid', 'HTDef', 'ATDef', 'HomeSquad', 'AwaySquad',\n",
       "       'HomeAvgAge', 'AwayAvgAge', 'HomeMV', 'AwayMV', 'FTHG', 'FTAG', 'FTR',\n",
       "       'HTHG', 'HTAG', 'HTR', 'HS', 'AS', 'HST', 'AST', 'HF', 'AF', 'HC', 'AC',\n",
       "       'HY', 'AY', 'HR', 'AR', 'HxG', 'AxG', 'HxA', 'AxA', 'HxPTS', 'AxPTS',\n",
       "       'HPPDA', 'APPDA', 'B365H', 'B365D', 'B365A', 'BWH', 'BWD', 'BWA', 'IWH',\n",
       "       'IWD', 'IWA', 'PSH', 'PSD', 'PSA', 'WHH', 'WHD', 'WHA', 'VCH', 'VCD',\n",
       "       'VCA', 'PSCH', 'PSCD', 'PSCA'],\n",
       "      dtype='object')"
      ]
     },
     "execution_count": 121,
     "metadata": {},
     "output_type": "execute_result"
    }
   ],
   "source": [
    "epl_data.columns"
   ]
  },
  {
   "cell_type": "code",
   "execution_count": 122,
   "metadata": {},
   "outputs": [],
   "source": [
    "epl_data['Date'] = pd.to_datetime(epl_data['Date'])\n",
    "# epl_data['Year'] = epl_data['Date'].apply(lambda date: date.year)\n",
    "# epl_data['Month'] = epl_data['Date'].apply(lambda date: date.month)"
   ]
  },
  {
   "cell_type": "code",
   "execution_count": 123,
   "metadata": {},
   "outputs": [],
   "source": [
    "# Drop the columns that we don't need\n",
    "epl_data = epl_data.drop(['Div', 'HomeTeam', 'AwayTeam', 'HomeSquad', 'AwaySquad'], axis =1)"
   ]
  },
  {
   "cell_type": "markdown",
   "metadata": {},
   "source": [
    "## Exploratory Data Analysis"
   ]
  },
  {
   "cell_type": "code",
   "execution_count": 124,
   "metadata": {},
   "outputs": [
    {
     "data": {
      "text/html": [
       "<div>\n",
       "<style scoped>\n",
       "    .dataframe tbody tr th:only-of-type {\n",
       "        vertical-align: middle;\n",
       "    }\n",
       "\n",
       "    .dataframe tbody tr th {\n",
       "        vertical-align: top;\n",
       "    }\n",
       "\n",
       "    .dataframe thead th {\n",
       "        text-align: right;\n",
       "    }\n",
       "</style>\n",
       "<table border=\"1\" class=\"dataframe\">\n",
       "  <thead>\n",
       "    <tr style=\"text-align: right;\">\n",
       "      <th></th>\n",
       "      <th>Date</th>\n",
       "      <th>HTOa</th>\n",
       "      <th>ATOa</th>\n",
       "      <th>HTAt</th>\n",
       "      <th>ATAt</th>\n",
       "      <th>HTMid</th>\n",
       "      <th>ATMid</th>\n",
       "      <th>HTDef</th>\n",
       "      <th>ATDef</th>\n",
       "      <th>HomeAvgAge</th>\n",
       "      <th>...</th>\n",
       "      <th>PSA</th>\n",
       "      <th>WHH</th>\n",
       "      <th>WHD</th>\n",
       "      <th>WHA</th>\n",
       "      <th>VCH</th>\n",
       "      <th>VCD</th>\n",
       "      <th>VCA</th>\n",
       "      <th>PSCH</th>\n",
       "      <th>PSCD</th>\n",
       "      <th>PSCA</th>\n",
       "    </tr>\n",
       "  </thead>\n",
       "  <tbody>\n",
       "    <tr>\n",
       "      <th>0</th>\n",
       "      <td>2021-08-13</td>\n",
       "      <td>73</td>\n",
       "      <td>79</td>\n",
       "      <td>73</td>\n",
       "      <td>82</td>\n",
       "      <td>73</td>\n",
       "      <td>80</td>\n",
       "      <td>74</td>\n",
       "      <td>77</td>\n",
       "      <td>24</td>\n",
       "      <td>...</td>\n",
       "      <td>2.05</td>\n",
       "      <td>4.00</td>\n",
       "      <td>3.40</td>\n",
       "      <td>1.90</td>\n",
       "      <td>4.10</td>\n",
       "      <td>3.40</td>\n",
       "      <td>2.00</td>\n",
       "      <td>3.94</td>\n",
       "      <td>3.33</td>\n",
       "      <td>2.13</td>\n",
       "    </tr>\n",
       "    <tr>\n",
       "      <th>1</th>\n",
       "      <td>2021-08-14</td>\n",
       "      <td>83</td>\n",
       "      <td>76</td>\n",
       "      <td>83</td>\n",
       "      <td>78</td>\n",
       "      <td>84</td>\n",
       "      <td>77</td>\n",
       "      <td>83</td>\n",
       "      <td>76</td>\n",
       "      <td>25</td>\n",
       "      <td>...</td>\n",
       "      <td>5.96</td>\n",
       "      <td>1.52</td>\n",
       "      <td>4.33</td>\n",
       "      <td>5.80</td>\n",
       "      <td>1.55</td>\n",
       "      <td>4.40</td>\n",
       "      <td>6.00</td>\n",
       "      <td>1.67</td>\n",
       "      <td>4.20</td>\n",
       "      <td>5.40</td>\n",
       "    </tr>\n",
       "    <tr>\n",
       "      <th>2</th>\n",
       "      <td>2021-08-14</td>\n",
       "      <td>76</td>\n",
       "      <td>75</td>\n",
       "      <td>75</td>\n",
       "      <td>75</td>\n",
       "      <td>76</td>\n",
       "      <td>75</td>\n",
       "      <td>77</td>\n",
       "      <td>76</td>\n",
       "      <td>27</td>\n",
       "      <td>...</td>\n",
       "      <td>2.51</td>\n",
       "      <td>3.20</td>\n",
       "      <td>3.00</td>\n",
       "      <td>2.45</td>\n",
       "      <td>3.13</td>\n",
       "      <td>3.10</td>\n",
       "      <td>2.45</td>\n",
       "      <td>3.27</td>\n",
       "      <td>3.14</td>\n",
       "      <td>2.51</td>\n",
       "    </tr>\n",
       "    <tr>\n",
       "      <th>3</th>\n",
       "      <td>2021-08-14</td>\n",
       "      <td>83</td>\n",
       "      <td>76</td>\n",
       "      <td>84</td>\n",
       "      <td>77</td>\n",
       "      <td>85</td>\n",
       "      <td>75</td>\n",
       "      <td>82</td>\n",
       "      <td>74</td>\n",
       "      <td>25</td>\n",
       "      <td>...</td>\n",
       "      <td>12.74</td>\n",
       "      <td>1.25</td>\n",
       "      <td>5.50</td>\n",
       "      <td>13.00</td>\n",
       "      <td>1.25</td>\n",
       "      <td>5.75</td>\n",
       "      <td>13.00</td>\n",
       "      <td>1.34</td>\n",
       "      <td>5.40</td>\n",
       "      <td>11.00</td>\n",
       "    </tr>\n",
       "    <tr>\n",
       "      <th>4</th>\n",
       "      <td>2021-08-14</td>\n",
       "      <td>79</td>\n",
       "      <td>76</td>\n",
       "      <td>80</td>\n",
       "      <td>76</td>\n",
       "      <td>79</td>\n",
       "      <td>76</td>\n",
       "      <td>79</td>\n",
       "      <td>76</td>\n",
       "      <td>25</td>\n",
       "      <td>...</td>\n",
       "      <td>4.10</td>\n",
       "      <td>1.95</td>\n",
       "      <td>3.40</td>\n",
       "      <td>4.00</td>\n",
       "      <td>1.95</td>\n",
       "      <td>3.40</td>\n",
       "      <td>4.10</td>\n",
       "      <td>2.05</td>\n",
       "      <td>3.45</td>\n",
       "      <td>4.07</td>\n",
       "    </tr>\n",
       "  </tbody>\n",
       "</table>\n",
       "<p>5 rows × 60 columns</p>\n",
       "</div>"
      ],
      "text/plain": [
       "        Date  HTOa  ATOa  HTAt  ATAt  HTMid  ATMid  HTDef  ATDef  HomeAvgAge   \n",
       "0 2021-08-13    73    79    73    82     73     80     74     77          24  \\\n",
       "1 2021-08-14    83    76    83    78     84     77     83     76          25   \n",
       "2 2021-08-14    76    75    75    75     76     75     77     76          27   \n",
       "3 2021-08-14    83    76    84    77     85     75     82     74          25   \n",
       "4 2021-08-14    79    76    80    76     79     76     79     76          25   \n",
       "\n",
       "   ...    PSA   WHH   WHD    WHA   VCH   VCD    VCA  PSCH  PSCD   PSCA  \n",
       "0  ...   2.05  4.00  3.40   1.90  4.10  3.40   2.00  3.94  3.33   2.13  \n",
       "1  ...   5.96  1.52  4.33   5.80  1.55  4.40   6.00  1.67  4.20   5.40  \n",
       "2  ...   2.51  3.20  3.00   2.45  3.13  3.10   2.45  3.27  3.14   2.51  \n",
       "3  ...  12.74  1.25  5.50  13.00  1.25  5.75  13.00  1.34  5.40  11.00  \n",
       "4  ...   4.10  1.95  3.40   4.00  1.95  3.40   4.10  2.05  3.45   4.07  \n",
       "\n",
       "[5 rows x 60 columns]"
      ]
     },
     "execution_count": 124,
     "metadata": {},
     "output_type": "execute_result"
    }
   ],
   "source": [
    "epl_data.head()"
   ]
  },
  {
   "cell_type": "code",
   "execution_count": 125,
   "metadata": {},
   "outputs": [
    {
     "data": {
      "text/plain": [
       "<Axes: title={'center': 'AxG'}, xlabel='FTAG'>"
      ]
     },
     "execution_count": 125,
     "metadata": {},
     "output_type": "execute_result"
    },
    {
     "data": {
      "image/png": "[encoded data removed]",
      "text/plain": [
       "<Figure size 1200x300 with 2 Axes>"
      ]
     },
     "metadata": {},
     "output_type": "display_data"
    }
   ],
   "source": [
    "fig, axes = plt.subplots(nrows = 1, ncols = 2, figsize=(12,3))\n",
    "epl_data.boxplot(by = 'FTHG', column = 'HxG', ax=axes[0],)\n",
    "epl_data.boxplot(by = 'FTAG', column = 'AxG', ax=axes[1])"
   ]
  },
  {
   "cell_type": "markdown",
   "metadata": {},
   "source": [
    "Expected goals are an underlying metric calculated based on the probability of a shot being scored, based on shots from the same location. You can sum this over a game to get a team's xG. While it is a deeply imperfect statistic, we can see here that the more goals a team scores, the larger the xG tends to be. Over a large enough sample, we expect that xG will be equal to goals scored. Only 2 home teams in 2021-2022 scored 7 goals, so we can disregard that column."
   ]
  },
  {
   "cell_type": "code",
   "execution_count": 126,
   "metadata": {},
   "outputs": [
    {
     "data": {
      "text/plain": [
       "<Axes: xlabel='HomeMV', ylabel='HTOa'>"
      ]
     },
     "execution_count": 126,
     "metadata": {},
     "output_type": "execute_result"
    },
    {
     "data": {
      "image/png": "[encoded data removed]",
      "text/plain": [
       "<Figure size 600x300 with 1 Axes>"
      ]
     },
     "metadata": {},
     "output_type": "display_data"
    }
   ],
   "source": [
    "plt.figure(figsize=(6,3))\n",
    "sns.scatterplot(data = epl_data, x = 'HomeMV', y = 'HTOa')"
   ]
  },
  {
   "cell_type": "markdown",
   "metadata": {},
   "source": [
    "Here, we can see that generally, the more valuable a team (x-axis), the better rated that team is on FIFA (y-axis). This is logical as it shows that spending more money does tend to lead to a better quality of player. Whether this translates to results is a different question."
   ]
  },
  {
   "cell_type": "code",
   "execution_count": 127,
   "metadata": {},
   "outputs": [
    {
     "data": {
      "text/plain": [
       "<Axes: xlabel='FTR', ylabel='BWH'>"
      ]
     },
     "execution_count": 127,
     "metadata": {},
     "output_type": "execute_result"
    },
    {
     "data": {
      "image/png": "[encoded data removed]",
      "text/plain": [
       "<Figure size 600x400 with 1 Axes>"
      ]
     },
     "metadata": {},
     "output_type": "display_data"
    }
   ],
   "source": [
    "plt.figure(figsize=(6,4))\n",
    "sns.boxplot(data = epl_data, x = 'FTR', y = 'BWH')"
   ]
  },
  {
   "cell_type": "markdown",
   "metadata": {},
   "source": [
    "Here, we can see that on one betting site, home teams tend to be more of a favorite when they win than when they draw or lose. This is very logical, as if they are predicted to win (because of underlying stats, players, etc.), they are more likely to win.\n",
    "\n",
    "This made me wonder, is there a reason as to why the home teams tend to be favored?"
   ]
  },
  {
   "cell_type": "code",
   "execution_count": 128,
   "metadata": {},
   "outputs": [
    {
     "data": {
      "text/plain": [
       "FTR\n",
       "H    42.894737\n",
       "A    33.947368\n",
       "D    23.157895\n",
       "Name: count, dtype: float64"
      ]
     },
     "execution_count": 128,
     "metadata": {},
     "output_type": "execute_result"
    }
   ],
   "source": [
    "epl_data['FTR'].value_counts()/380*100"
   ]
  },
  {
   "cell_type": "markdown",
   "metadata": {},
   "source": [
    "There is! They won 42.9% of their games in 2021-22, versus drawing 23.2%, and losing 33.9%. This is a pretty sizable difference, lending to the \"home field advantage\" theory."
   ]
  },
  {
   "cell_type": "code",
   "execution_count": 129,
   "metadata": {},
   "outputs": [],
   "source": [
    "home_betting_values = epl_data[['VCH', 'WHH','IWH','PSH','BWH','PSCH', 'B365H']]\n",
    "\n"
   ]
  },
  {
   "cell_type": "code",
   "execution_count": 130,
   "metadata": {},
   "outputs": [],
   "source": [
    "home_betting_corr = home_betting_values.corr()"
   ]
  },
  {
   "cell_type": "code",
   "execution_count": 131,
   "metadata": {},
   "outputs": [
    {
     "data": {
      "text/plain": [
       "<Axes: >"
      ]
     },
     "execution_count": 131,
     "metadata": {},
     "output_type": "execute_result"
    },
    {
     "data": {
      "image/png": "[encoded data removed]",
      "text/plain": [
       "<Figure size 640x480 with 2 Axes>"
      ]
     },
     "metadata": {},
     "output_type": "display_data"
    }
   ],
   "source": [
    "sns.heatmap(data = home_betting_corr, annot = True, fmt=\".3f\", linewidth = .25, cmap = 'coolwarm')"
   ]
  },
  {
   "cell_type": "markdown",
   "metadata": {},
   "source": [
    "Taking a look at betting lines, we would expect them to all be very closely correlated. This is true for most of the books, as there is a .985 to .996 correlation between any of the books, excluding PSC (Pinnacle). Pinnacle has a correlation range of .960-.979 with all the other books. While this is still extremely strong, it is something interesting to note that these tend to be relative outliers.\n",
    "\n",
    "Let's see what makes Pinnacle so different"
   ]
  },
  {
   "cell_type": "code",
   "execution_count": 132,
   "metadata": {},
   "outputs": [
    {
     "data": {
      "text/html": [
       "<div>\n",
       "<style scoped>\n",
       "    .dataframe tbody tr th:only-of-type {\n",
       "        vertical-align: middle;\n",
       "    }\n",
       "\n",
       "    .dataframe tbody tr th {\n",
       "        vertical-align: top;\n",
       "    }\n",
       "\n",
       "    .dataframe thead th {\n",
       "        text-align: right;\n",
       "    }\n",
       "</style>\n",
       "<table border=\"1\" class=\"dataframe\">\n",
       "  <thead>\n",
       "    <tr style=\"text-align: right;\">\n",
       "      <th></th>\n",
       "      <th>VCH</th>\n",
       "      <th>WHH</th>\n",
       "      <th>IWH</th>\n",
       "      <th>PSH</th>\n",
       "      <th>BWH</th>\n",
       "      <th>PSCH</th>\n",
       "      <th>B365H</th>\n",
       "    </tr>\n",
       "  </thead>\n",
       "  <tbody>\n",
       "    <tr>\n",
       "      <th>count</th>\n",
       "      <td>380.000000</td>\n",
       "      <td>380.000000</td>\n",
       "      <td>380.000000</td>\n",
       "      <td>380.000000</td>\n",
       "      <td>380.000000</td>\n",
       "      <td>380.000000</td>\n",
       "      <td>380.000000</td>\n",
       "    </tr>\n",
       "    <tr>\n",
       "      <th>mean</th>\n",
       "      <td>3.088105</td>\n",
       "      <td>3.064579</td>\n",
       "      <td>3.029289</td>\n",
       "      <td>3.165289</td>\n",
       "      <td>3.026105</td>\n",
       "      <td>3.192026</td>\n",
       "      <td>3.041026</td>\n",
       "    </tr>\n",
       "    <tr>\n",
       "      <th>std</th>\n",
       "      <td>2.598797</td>\n",
       "      <td>2.473830</td>\n",
       "      <td>2.348604</td>\n",
       "      <td>2.587414</td>\n",
       "      <td>2.372764</td>\n",
       "      <td>2.684001</td>\n",
       "      <td>2.380071</td>\n",
       "    </tr>\n",
       "    <tr>\n",
       "      <th>min</th>\n",
       "      <td>1.070000</td>\n",
       "      <td>1.080000</td>\n",
       "      <td>1.120000</td>\n",
       "      <td>1.110000</td>\n",
       "      <td>1.110000</td>\n",
       "      <td>1.100000</td>\n",
       "      <td>1.080000</td>\n",
       "    </tr>\n",
       "    <tr>\n",
       "      <th>25%</th>\n",
       "      <td>1.620000</td>\n",
       "      <td>1.630000</td>\n",
       "      <td>1.650000</td>\n",
       "      <td>1.670000</td>\n",
       "      <td>1.630000</td>\n",
       "      <td>1.690000</td>\n",
       "      <td>1.610000</td>\n",
       "    </tr>\n",
       "    <tr>\n",
       "      <th>50%</th>\n",
       "      <td>2.250000</td>\n",
       "      <td>2.300000</td>\n",
       "      <td>2.300000</td>\n",
       "      <td>2.370000</td>\n",
       "      <td>2.300000</td>\n",
       "      <td>2.355000</td>\n",
       "      <td>2.275000</td>\n",
       "    </tr>\n",
       "    <tr>\n",
       "      <th>75%</th>\n",
       "      <td>3.250000</td>\n",
       "      <td>3.212500</td>\n",
       "      <td>3.212500</td>\n",
       "      <td>3.357500</td>\n",
       "      <td>3.300000</td>\n",
       "      <td>3.545000</td>\n",
       "      <td>3.300000</td>\n",
       "    </tr>\n",
       "    <tr>\n",
       "      <th>max</th>\n",
       "      <td>19.000000</td>\n",
       "      <td>17.000000</td>\n",
       "      <td>18.000000</td>\n",
       "      <td>18.960000</td>\n",
       "      <td>18.000000</td>\n",
       "      <td>23.500000</td>\n",
       "      <td>19.000000</td>\n",
       "    </tr>\n",
       "  </tbody>\n",
       "</table>\n",
       "</div>"
      ],
      "text/plain": [
       "              VCH         WHH         IWH         PSH         BWH        PSCH   \n",
       "count  380.000000  380.000000  380.000000  380.000000  380.000000  380.000000  \\\n",
       "mean     3.088105    3.064579    3.029289    3.165289    3.026105    3.192026   \n",
       "std      2.598797    2.473830    2.348604    2.587414    2.372764    2.684001   \n",
       "min      1.070000    1.080000    1.120000    1.110000    1.110000    1.100000   \n",
       "25%      1.620000    1.630000    1.650000    1.670000    1.630000    1.690000   \n",
       "50%      2.250000    2.300000    2.300000    2.370000    2.300000    2.355000   \n",
       "75%      3.250000    3.212500    3.212500    3.357500    3.300000    3.545000   \n",
       "max     19.000000   17.000000   18.000000   18.960000   18.000000   23.500000   \n",
       "\n",
       "            B365H  \n",
       "count  380.000000  \n",
       "mean     3.041026  \n",
       "std      2.380071  \n",
       "min      1.080000  \n",
       "25%      1.610000  \n",
       "50%      2.275000  \n",
       "75%      3.300000  \n",
       "max     19.000000  "
      ]
     },
     "execution_count": 132,
     "metadata": {},
     "output_type": "execute_result"
    }
   ],
   "source": [
    "home_betting_values.describe()"
   ]
  },
  {
   "cell_type": "markdown",
   "metadata": {},
   "source": [
    "It looks like they tend to give worse odds for the home team to win (they have the highest max, a higher mean, and a larger standard deviation)\n",
    "\n",
    "Is this also the case for away odds?"
   ]
  },
  {
   "cell_type": "code",
   "execution_count": 133,
   "metadata": {},
   "outputs": [
    {
     "data": {
      "text/plain": [
       "<Axes: >"
      ]
     },
     "execution_count": 133,
     "metadata": {},
     "output_type": "execute_result"
    },
    {
     "data": {
      "image/png": "[encoded data removed]",
      "text/plain": [
       "<Figure size 640x480 with 2 Axes>"
      ]
     },
     "metadata": {},
     "output_type": "display_data"
    }
   ],
   "source": [
    "away_betting_values = epl_data[['VCA', 'WHA','IWA','PSA','BWA','PSCA', 'B365A']]\n",
    "away_betting_corr = away_betting_values.corr()\n",
    "sns.heatmap(data = away_betting_corr, annot = True, fmt=\".3f\", linewidth = .25, cmap = 'coolwarm')"
   ]
  },
  {
   "cell_type": "code",
   "execution_count": 134,
   "metadata": {},
   "outputs": [
    {
     "data": {
      "text/html": [
       "<div>\n",
       "<style scoped>\n",
       "    .dataframe tbody tr th:only-of-type {\n",
       "        vertical-align: middle;\n",
       "    }\n",
       "\n",
       "    .dataframe tbody tr th {\n",
       "        vertical-align: top;\n",
       "    }\n",
       "\n",
       "    .dataframe thead th {\n",
       "        text-align: right;\n",
       "    }\n",
       "</style>\n",
       "<table border=\"1\" class=\"dataframe\">\n",
       "  <thead>\n",
       "    <tr style=\"text-align: right;\">\n",
       "      <th></th>\n",
       "      <th>VCA</th>\n",
       "      <th>WHA</th>\n",
       "      <th>IWA</th>\n",
       "      <th>PSA</th>\n",
       "      <th>BWA</th>\n",
       "      <th>PSCA</th>\n",
       "      <th>B365A</th>\n",
       "    </tr>\n",
       "  </thead>\n",
       "  <tbody>\n",
       "    <tr>\n",
       "      <th>count</th>\n",
       "      <td>380.000000</td>\n",
       "      <td>380.000000</td>\n",
       "      <td>380.000000</td>\n",
       "      <td>380.000000</td>\n",
       "      <td>380.000000</td>\n",
       "      <td>380.000000</td>\n",
       "      <td>380.000000</td>\n",
       "    </tr>\n",
       "    <tr>\n",
       "      <th>mean</th>\n",
       "      <td>4.840711</td>\n",
       "      <td>4.798974</td>\n",
       "      <td>4.561711</td>\n",
       "      <td>5.011500</td>\n",
       "      <td>4.639263</td>\n",
       "      <td>4.981974</td>\n",
       "      <td>4.690079</td>\n",
       "    </tr>\n",
       "    <tr>\n",
       "      <th>std</th>\n",
       "      <td>4.688215</td>\n",
       "      <td>4.530138</td>\n",
       "      <td>4.005687</td>\n",
       "      <td>4.860372</td>\n",
       "      <td>4.264799</td>\n",
       "      <td>4.710213</td>\n",
       "      <td>4.230893</td>\n",
       "    </tr>\n",
       "    <tr>\n",
       "      <th>min</th>\n",
       "      <td>1.130000</td>\n",
       "      <td>1.150000</td>\n",
       "      <td>1.150000</td>\n",
       "      <td>1.170000</td>\n",
       "      <td>1.170000</td>\n",
       "      <td>1.130000</td>\n",
       "      <td>1.140000</td>\n",
       "    </tr>\n",
       "    <tr>\n",
       "      <th>25%</th>\n",
       "      <td>2.200000</td>\n",
       "      <td>2.250000</td>\n",
       "      <td>2.250000</td>\n",
       "      <td>2.277500</td>\n",
       "      <td>2.200000</td>\n",
       "      <td>2.237500</td>\n",
       "      <td>2.237500</td>\n",
       "    </tr>\n",
       "    <tr>\n",
       "      <th>50%</th>\n",
       "      <td>3.200000</td>\n",
       "      <td>3.225000</td>\n",
       "      <td>3.175000</td>\n",
       "      <td>3.310000</td>\n",
       "      <td>3.200000</td>\n",
       "      <td>3.380000</td>\n",
       "      <td>3.250000</td>\n",
       "    </tr>\n",
       "    <tr>\n",
       "      <th>75%</th>\n",
       "      <td>5.500000</td>\n",
       "      <td>5.500000</td>\n",
       "      <td>5.250000</td>\n",
       "      <td>5.760000</td>\n",
       "      <td>5.500000</td>\n",
       "      <td>5.542500</td>\n",
       "      <td>5.500000</td>\n",
       "    </tr>\n",
       "    <tr>\n",
       "      <th>max</th>\n",
       "      <td>26.000000</td>\n",
       "      <td>26.000000</td>\n",
       "      <td>22.000000</td>\n",
       "      <td>27.790000</td>\n",
       "      <td>23.000000</td>\n",
       "      <td>31.000000</td>\n",
       "      <td>26.000000</td>\n",
       "    </tr>\n",
       "  </tbody>\n",
       "</table>\n",
       "</div>"
      ],
      "text/plain": [
       "              VCA         WHA         IWA         PSA         BWA        PSCA   \n",
       "count  380.000000  380.000000  380.000000  380.000000  380.000000  380.000000  \\\n",
       "mean     4.840711    4.798974    4.561711    5.011500    4.639263    4.981974   \n",
       "std      4.688215    4.530138    4.005687    4.860372    4.264799    4.710213   \n",
       "min      1.130000    1.150000    1.150000    1.170000    1.170000    1.130000   \n",
       "25%      2.200000    2.250000    2.250000    2.277500    2.200000    2.237500   \n",
       "50%      3.200000    3.225000    3.175000    3.310000    3.200000    3.380000   \n",
       "75%      5.500000    5.500000    5.250000    5.760000    5.500000    5.542500   \n",
       "max     26.000000   26.000000   22.000000   27.790000   23.000000   31.000000   \n",
       "\n",
       "            B365A  \n",
       "count  380.000000  \n",
       "mean     4.690079  \n",
       "std      4.230893  \n",
       "min      1.140000  \n",
       "25%      2.237500  \n",
       "50%      3.250000  \n",
       "75%      5.500000  \n",
       "max     26.000000  "
      ]
     },
     "execution_count": 134,
     "metadata": {},
     "output_type": "execute_result"
    }
   ],
   "source": [
    "away_betting_values.describe()"
   ]
  },
  {
   "cell_type": "markdown",
   "metadata": {},
   "source": [
    "There seems to be more variablity for away odds, but Pinnacle does not correlate as well with the rest of the books. This is something interesting to note!\n",
    "\n",
    "Although I could continue to analyze this data (as there is plenty of it), I want to get into trying to predict outcomes of the games.\n",
    "Clearly, if we want to predict the results of games before they happen, we need to drop all the halftime and fulltime stats."
   ]
  },
  {
   "cell_type": "code",
   "execution_count": 135,
   "metadata": {},
   "outputs": [],
   "source": [
    "pregame_epl_data = epl_data.drop(['FTHG', 'FTAG', 'HTHG', 'HTAG', 'HTR', 'HS', 'AS', 'HST', 'AST', 'HF', 'AF', 'HC', 'AC', 'HY', 'AY', 'HR', 'AR', 'HxG', 'AxG', 'HxA', 'AxA', 'HxPTS', 'HPPDA', 'APPDA', 'AxPTS'], axis = 1)"
   ]
  },
  {
   "cell_type": "markdown",
   "metadata": {},
   "source": [
    "We need to convert the full time result (FTR) column from categorical data. We will encode 1 as a win for the home team, and 0 as a draw and -1 as a win for the away team"
   ]
  },
  {
   "cell_type": "code",
   "execution_count": 136,
   "metadata": {},
   "outputs": [],
   "source": [
    "new_column = []\n",
    "for index, row in pregame_epl_data.iterrows():\n",
    "    if row['FTR'] == 'H':\n",
    "        new_column.append(1)\n",
    "    if row['FTR'] == 'A':\n",
    "        new_column.append(-1)\n",
    "    if row['FTR'] == 'D':\n",
    "        new_column.append(0)\n"
   ]
  },
  {
   "cell_type": "code",
   "execution_count": 137,
   "metadata": {},
   "outputs": [],
   "source": [
    "pregame_epl_data['Result'] = new_column"
   ]
  },
  {
   "cell_type": "code",
   "execution_count": 138,
   "metadata": {},
   "outputs": [],
   "source": [
    "pregame_epl_data = pregame_epl_data.drop('FTR', axis = 1)"
   ]
  },
  {
   "cell_type": "code",
   "execution_count": 139,
   "metadata": {},
   "outputs": [
    {
     "data": {
      "text/html": [
       "<div>\n",
       "<style scoped>\n",
       "    .dataframe tbody tr th:only-of-type {\n",
       "        vertical-align: middle;\n",
       "    }\n",
       "\n",
       "    .dataframe tbody tr th {\n",
       "        vertical-align: top;\n",
       "    }\n",
       "\n",
       "    .dataframe thead th {\n",
       "        text-align: right;\n",
       "    }\n",
       "</style>\n",
       "<table border=\"1\" class=\"dataframe\">\n",
       "  <thead>\n",
       "    <tr style=\"text-align: right;\">\n",
       "      <th></th>\n",
       "      <th>Date</th>\n",
       "      <th>HTOa</th>\n",
       "      <th>ATOa</th>\n",
       "      <th>HTAt</th>\n",
       "      <th>ATAt</th>\n",
       "      <th>HTMid</th>\n",
       "      <th>ATMid</th>\n",
       "      <th>HTDef</th>\n",
       "      <th>ATDef</th>\n",
       "      <th>HomeAvgAge</th>\n",
       "      <th>...</th>\n",
       "      <th>WHH</th>\n",
       "      <th>WHD</th>\n",
       "      <th>WHA</th>\n",
       "      <th>VCH</th>\n",
       "      <th>VCD</th>\n",
       "      <th>VCA</th>\n",
       "      <th>PSCH</th>\n",
       "      <th>PSCD</th>\n",
       "      <th>PSCA</th>\n",
       "      <th>Result</th>\n",
       "    </tr>\n",
       "  </thead>\n",
       "  <tbody>\n",
       "    <tr>\n",
       "      <th>0</th>\n",
       "      <td>2021-08-13</td>\n",
       "      <td>73</td>\n",
       "      <td>79</td>\n",
       "      <td>73</td>\n",
       "      <td>82</td>\n",
       "      <td>73</td>\n",
       "      <td>80</td>\n",
       "      <td>74</td>\n",
       "      <td>77</td>\n",
       "      <td>24</td>\n",
       "      <td>...</td>\n",
       "      <td>4.00</td>\n",
       "      <td>3.40</td>\n",
       "      <td>1.90</td>\n",
       "      <td>4.10</td>\n",
       "      <td>3.40</td>\n",
       "      <td>2.00</td>\n",
       "      <td>3.94</td>\n",
       "      <td>3.33</td>\n",
       "      <td>2.13</td>\n",
       "      <td>1</td>\n",
       "    </tr>\n",
       "    <tr>\n",
       "      <th>1</th>\n",
       "      <td>2021-08-14</td>\n",
       "      <td>83</td>\n",
       "      <td>76</td>\n",
       "      <td>83</td>\n",
       "      <td>78</td>\n",
       "      <td>84</td>\n",
       "      <td>77</td>\n",
       "      <td>83</td>\n",
       "      <td>76</td>\n",
       "      <td>25</td>\n",
       "      <td>...</td>\n",
       "      <td>1.52</td>\n",
       "      <td>4.33</td>\n",
       "      <td>5.80</td>\n",
       "      <td>1.55</td>\n",
       "      <td>4.40</td>\n",
       "      <td>6.00</td>\n",
       "      <td>1.67</td>\n",
       "      <td>4.20</td>\n",
       "      <td>5.40</td>\n",
       "      <td>1</td>\n",
       "    </tr>\n",
       "    <tr>\n",
       "      <th>2</th>\n",
       "      <td>2021-08-14</td>\n",
       "      <td>76</td>\n",
       "      <td>75</td>\n",
       "      <td>75</td>\n",
       "      <td>75</td>\n",
       "      <td>76</td>\n",
       "      <td>75</td>\n",
       "      <td>77</td>\n",
       "      <td>76</td>\n",
       "      <td>27</td>\n",
       "      <td>...</td>\n",
       "      <td>3.20</td>\n",
       "      <td>3.00</td>\n",
       "      <td>2.45</td>\n",
       "      <td>3.13</td>\n",
       "      <td>3.10</td>\n",
       "      <td>2.45</td>\n",
       "      <td>3.27</td>\n",
       "      <td>3.14</td>\n",
       "      <td>2.51</td>\n",
       "      <td>-1</td>\n",
       "    </tr>\n",
       "    <tr>\n",
       "      <th>3</th>\n",
       "      <td>2021-08-14</td>\n",
       "      <td>83</td>\n",
       "      <td>76</td>\n",
       "      <td>84</td>\n",
       "      <td>77</td>\n",
       "      <td>85</td>\n",
       "      <td>75</td>\n",
       "      <td>82</td>\n",
       "      <td>74</td>\n",
       "      <td>25</td>\n",
       "      <td>...</td>\n",
       "      <td>1.25</td>\n",
       "      <td>5.50</td>\n",
       "      <td>13.00</td>\n",
       "      <td>1.25</td>\n",
       "      <td>5.75</td>\n",
       "      <td>13.00</td>\n",
       "      <td>1.34</td>\n",
       "      <td>5.40</td>\n",
       "      <td>11.00</td>\n",
       "      <td>1</td>\n",
       "    </tr>\n",
       "    <tr>\n",
       "      <th>4</th>\n",
       "      <td>2021-08-14</td>\n",
       "      <td>79</td>\n",
       "      <td>76</td>\n",
       "      <td>80</td>\n",
       "      <td>76</td>\n",
       "      <td>79</td>\n",
       "      <td>76</td>\n",
       "      <td>79</td>\n",
       "      <td>76</td>\n",
       "      <td>25</td>\n",
       "      <td>...</td>\n",
       "      <td>1.95</td>\n",
       "      <td>3.40</td>\n",
       "      <td>4.00</td>\n",
       "      <td>1.95</td>\n",
       "      <td>3.40</td>\n",
       "      <td>4.10</td>\n",
       "      <td>2.05</td>\n",
       "      <td>3.45</td>\n",
       "      <td>4.07</td>\n",
       "      <td>1</td>\n",
       "    </tr>\n",
       "  </tbody>\n",
       "</table>\n",
       "<p>5 rows × 35 columns</p>\n",
       "</div>"
      ],
      "text/plain": [
       "        Date  HTOa  ATOa  HTAt  ATAt  HTMid  ATMid  HTDef  ATDef  HomeAvgAge   \n",
       "0 2021-08-13    73    79    73    82     73     80     74     77          24  \\\n",
       "1 2021-08-14    83    76    83    78     84     77     83     76          25   \n",
       "2 2021-08-14    76    75    75    75     76     75     77     76          27   \n",
       "3 2021-08-14    83    76    84    77     85     75     82     74          25   \n",
       "4 2021-08-14    79    76    80    76     79     76     79     76          25   \n",
       "\n",
       "   ...   WHH   WHD    WHA   VCH   VCD    VCA  PSCH  PSCD   PSCA  Result  \n",
       "0  ...  4.00  3.40   1.90  4.10  3.40   2.00  3.94  3.33   2.13       1  \n",
       "1  ...  1.52  4.33   5.80  1.55  4.40   6.00  1.67  4.20   5.40       1  \n",
       "2  ...  3.20  3.00   2.45  3.13  3.10   2.45  3.27  3.14   2.51      -1  \n",
       "3  ...  1.25  5.50  13.00  1.25  5.75  13.00  1.34  5.40  11.00       1  \n",
       "4  ...  1.95  3.40   4.00  1.95  3.40   4.10  2.05  3.45   4.07       1  \n",
       "\n",
       "[5 rows x 35 columns]"
      ]
     },
     "execution_count": 139,
     "metadata": {},
     "output_type": "execute_result"
    }
   ],
   "source": [
    "pregame_epl_data.head()"
   ]
  },
  {
   "cell_type": "code",
   "execution_count": 140,
   "metadata": {},
   "outputs": [
    {
     "data": {
      "text/plain": [
       "Index(['Date', 'HTOa', 'ATOa', 'HTAt', 'ATAt', 'HTMid', 'ATMid', 'HTDef',\n",
       "       'ATDef', 'HomeAvgAge', 'AwayAvgAge', 'HomeMV', 'AwayMV', 'B365H',\n",
       "       'B365D', 'B365A', 'BWH', 'BWD', 'BWA', 'IWH', 'IWD', 'IWA', 'PSH',\n",
       "       'PSD', 'PSA', 'WHH', 'WHD', 'WHA', 'VCH', 'VCD', 'VCA', 'PSCH', 'PSCD',\n",
       "       'PSCA', 'Result'],\n",
       "      dtype='object')"
      ]
     },
     "execution_count": 140,
     "metadata": {},
     "output_type": "execute_result"
    }
   ],
   "source": [
    "pregame_epl_data.columns"
   ]
  },
  {
   "cell_type": "markdown",
   "metadata": {},
   "source": [
    "Now, lets start trying to predict whether the home team wins. We can start with a very basic logistic regression."
   ]
  },
  {
   "cell_type": "markdown",
   "metadata": {},
   "source": [
    "## Logistic Regression:"
   ]
  },
  {
   "cell_type": "code",
   "execution_count": 141,
   "metadata": {},
   "outputs": [],
   "source": [
    "X = pregame_epl_data.drop(['Result', 'Date'], axis = 1)\n",
    "y = pregame_epl_data['Result']"
   ]
  },
  {
   "cell_type": "code",
   "execution_count": 142,
   "metadata": {},
   "outputs": [],
   "source": [
    "from sklearn.model_selection import train_test_split\n"
   ]
  },
  {
   "cell_type": "code",
   "execution_count": 143,
   "metadata": {},
   "outputs": [],
   "source": [
    "X_train, X_test, y_train, y_test = train_test_split(X, y, test_size=0.3, random_state=42)"
   ]
  },
  {
   "cell_type": "code",
   "execution_count": 144,
   "metadata": {},
   "outputs": [],
   "source": [
    "from sklearn.linear_model import LogisticRegression\n"
   ]
  },
  {
   "cell_type": "code",
   "execution_count": 145,
   "metadata": {},
   "outputs": [],
   "source": [
    "lm = LogisticRegression()"
   ]
  },
  {
   "cell_type": "code",
   "execution_count": 146,
   "metadata": {},
   "outputs": [
    {
     "name": "stderr",
     "output_type": "stream",
     "text": [
      "/Library/Frameworks/Python.framework/Versions/3.11/lib/python3.11/site-packages/sklearn/linear_model/_logistic.py:458: ConvergenceWarning: lbfgs failed to converge (status=1):\n",
      "STOP: TOTAL NO. of ITERATIONS REACHED LIMIT.\n",
      "\n",
      "Increase the number of iterations (max_iter) or scale the data as shown in:\n",
      "    https://scikit-learn.org/stable/modules/preprocessing.html\n",
      "Please also refer to the documentation for alternative solver options:\n",
      "    https://scikit-learn.org/stable/modules/linear_model.html#logistic-regression\n",
      "  n_iter_i = _check_optimize_result(\n"
     ]
    },
    {
     "data": {
      "text/html": [
       "<style>#sk-container-id-8 {color: black;background-color: white;}#sk-container-id-8 pre{padding: 0;}#sk-container-id-8 div.sk-toggleable {background-color: white;}#sk-container-id-8 label.sk-toggleable__label {cursor: pointer;display: block;width: 100%;margin-bottom: 0;padding: 0.3em;box-sizing: border-box;text-align: center;}#sk-container-id-8 label.sk-toggleable__label-arrow:before {content: \"▸\";float: left;margin-right: 0.25em;color: #696969;}#sk-container-id-8 label.sk-toggleable__label-arrow:hover:before {color: black;}#sk-container-id-8 div.sk-estimator:hover label.sk-toggleable__label-arrow:before {color: black;}#sk-container-id-8 div.sk-toggleable__content {max-height: 0;max-width: 0;overflow: hidden;text-align: left;background-color: #f0f8ff;}#sk-container-id-8 div.sk-toggleable__content pre {margin: 0.2em;color: black;border-radius: 0.25em;background-color: #f0f8ff;}#sk-container-id-8 input.sk-toggleable__control:checked~div.sk-toggleable__content {max-height: 200px;max-width: 100%;overflow: auto;}#sk-container-id-8 input.sk-toggleable__control:checked~label.sk-toggleable__label-arrow:before {content: \"▾\";}#sk-container-id-8 div.sk-estimator input.sk-toggleable__control:checked~label.sk-toggleable__label {background-color: #d4ebff;}#sk-container-id-8 div.sk-label input.sk-toggleable__control:checked~label.sk-toggleable__label {background-color: #d4ebff;}#sk-container-id-8 input.sk-hidden--visually {border: 0;clip: rect(1px 1px 1px 1px);clip: rect(1px, 1px, 1px, 1px);height: 1px;margin: -1px;overflow: hidden;padding: 0;position: absolute;width: 1px;}#sk-container-id-8 div.sk-estimator {font-family: monospace;background-color: #f0f8ff;border: 1px dotted black;border-radius: 0.25em;box-sizing: border-box;margin-bottom: 0.5em;}#sk-container-id-8 div.sk-estimator:hover {background-color: #d4ebff;}#sk-container-id-8 div.sk-parallel-item::after {content: \"\";width: 100%;border-bottom: 1px solid gray;flex-grow: 1;}#sk-container-id-8 div.sk-label:hover label.sk-toggleable__label {background-color: #d4ebff;}#sk-container-id-8 div.sk-serial::before {content: \"\";position: absolute;border-left: 1px solid gray;box-sizing: border-box;top: 0;bottom: 0;left: 50%;z-index: 0;}#sk-container-id-8 div.sk-serial {display: flex;flex-direction: column;align-items: center;background-color: white;padding-right: 0.2em;padding-left: 0.2em;position: relative;}#sk-container-id-8 div.sk-item {position: relative;z-index: 1;}#sk-container-id-8 div.sk-parallel {display: flex;align-items: stretch;justify-content: center;background-color: white;position: relative;}#sk-container-id-8 div.sk-item::before, #sk-container-id-8 div.sk-parallel-item::before {content: \"\";position: absolute;border-left: 1px solid gray;box-sizing: border-box;top: 0;bottom: 0;left: 50%;z-index: -1;}#sk-container-id-8 div.sk-parallel-item {display: flex;flex-direction: column;z-index: 1;position: relative;background-color: white;}#sk-container-id-8 div.sk-parallel-item:first-child::after {align-self: flex-end;width: 50%;}#sk-container-id-8 div.sk-parallel-item:last-child::after {align-self: flex-start;width: 50%;}#sk-container-id-8 div.sk-parallel-item:only-child::after {width: 0;}#sk-container-id-8 div.sk-dashed-wrapped {border: 1px dashed gray;margin: 0 0.4em 0.5em 0.4em;box-sizing: border-box;padding-bottom: 0.4em;background-color: white;}#sk-container-id-8 div.sk-label label {font-family: monospace;font-weight: bold;display: inline-block;line-height: 1.2em;}#sk-container-id-8 div.sk-label-container {text-align: center;}#sk-container-id-8 div.sk-container {/* jupyter's `normalize.less` sets `[hidden] { display: none; }` but bootstrap.min.css set `[hidden] { display: none !important; }` so we also need the `!important` here to be able to override the default hidden behavior on the sphinx rendered scikit-learn.org. See: https://github.com/scikit-learn/scikit-learn/issues/21755 */display: inline-block !important;position: relative;}#sk-container-id-8 div.sk-text-repr-fallback {display: none;}</style><div id=\"sk-container-id-8\" class=\"sk-top-container\"><div class=\"sk-text-repr-fallback\"><pre>LogisticRegression()</pre><b>In a Jupyter environment, please rerun this cell to show the HTML representation or trust the notebook. <br />On GitHub, the HTML representation is unable to render, please try loading this page with nbviewer.org.</b></div><div class=\"sk-container\" hidden><div class=\"sk-item\"><div class=\"sk-estimator sk-toggleable\"><input class=\"sk-toggleable__control sk-hidden--visually\" id=\"sk-estimator-id-8\" type=\"checkbox\" checked><label for=\"sk-estimator-id-8\" class=\"sk-toggleable__label sk-toggleable__label-arrow\">LogisticRegression</label><div class=\"sk-toggleable__content\"><pre>LogisticRegression()</pre></div></div></div></div></div>"
      ],
      "text/plain": [
       "LogisticRegression()"
      ]
     },
     "execution_count": 146,
     "metadata": {},
     "output_type": "execute_result"
    }
   ],
   "source": [
    "lm.fit(X_train, y_train)"
   ]
  },
  {
   "cell_type": "code",
   "execution_count": 147,
   "metadata": {},
   "outputs": [
    {
     "name": "stdout",
     "output_type": "stream",
     "text": [
      "Coefficients: \n",
      " [[ 2.96351864e-03 -3.00166026e-02 -3.18741039e-02 -1.92544092e-02\n",
      "   1.46602799e-03 -4.61983493e-03  4.74819976e-02  8.27358670e-02\n",
      "  -9.34927289e-02 -6.45119701e-02 -1.42172696e-03  2.21402083e-04\n",
      "   3.37129380e-02 -2.78607704e-03  1.74666377e-03  4.94030312e-02\n",
      "  -2.23233523e-03  1.48383254e-02  4.10146027e-02  9.88213600e-03\n",
      "   4.00673676e-03  5.39953503e-02 -2.64182242e-03 -1.46343593e-03\n",
      "   3.66754693e-02 -3.20938784e-03  2.00641456e-03  3.41663874e-02\n",
      "  -9.50768224e-03 -1.49123085e-04  3.28291835e-02 -7.35107272e-03\n",
      "  -1.04588394e-02]\n",
      " [-2.20778502e-02 -6.56081244e-03 -1.14877288e-01 -4.01852262e-02\n",
      "   1.28969099e-02  1.41497346e-02  4.85002645e-02  7.34886741e-02\n",
      "   1.10424129e-01 -5.10902212e-03  2.49909040e-03 -1.80641170e-03\n",
      "   1.37210334e-02  9.20505244e-03 -1.20792158e-02  7.57414696e-03\n",
      "   3.37731631e-03 -4.79249546e-03  1.39258590e-02 -2.01851737e-02\n",
      "  -1.51268941e-02  1.34764597e-02 -4.93592179e-03 -2.78273483e-02\n",
      "   2.17586559e-02 -1.09510342e-02 -2.09869184e-02  1.93874586e-02\n",
      "  -1.55156280e-02 -1.71095702e-02  3.89256419e-02 -3.13480376e-03\n",
      "   1.29052005e-02]\n",
      " [ 1.91143316e-02  3.65774151e-02  1.46751392e-01  5.94396354e-02\n",
      "  -1.43629379e-02 -9.52989964e-03 -9.59822621e-02 -1.56224541e-01\n",
      "  -1.69314004e-02  6.96209922e-02 -1.07736344e-03  1.58500961e-03\n",
      "  -4.74339714e-02 -6.41897541e-03  1.03325520e-02 -5.69771782e-02\n",
      "  -1.14498108e-03 -1.00458299e-02 -5.49404617e-02  1.03030377e-02\n",
      "   1.11201574e-02 -6.74718100e-02  7.57774421e-03  2.92907842e-02\n",
      "  -5.84341253e-02  1.41604221e-02  1.89805039e-02 -5.35538459e-02\n",
      "   2.50233103e-02  1.72586933e-02 -7.17548254e-02  1.04858765e-02\n",
      "  -2.44636116e-03]]\n"
     ]
    }
   ],
   "source": [
    "print('Coefficients: \\n', lm.coef_)"
   ]
  },
  {
   "cell_type": "code",
   "execution_count": 148,
   "metadata": {},
   "outputs": [],
   "source": [
    "predictions = lm.predict(X_test)"
   ]
  },
  {
   "cell_type": "code",
   "execution_count": 149,
   "metadata": {},
   "outputs": [
    {
     "data": {
      "text/plain": [
       "Text(0, 0.5, 'Predicted Y')"
      ]
     },
     "execution_count": 149,
     "metadata": {},
     "output_type": "execute_result"
    },
    {
     "data": {
      "image/png": "[encoded data removed]",
      "text/plain": [
       "<Figure size 640x480 with 1 Axes>"
      ]
     },
     "metadata": {},
     "output_type": "display_data"
    }
   ],
   "source": [
    "plt.scatter(y_test,predictions)\n",
    "plt.xlabel('Y Test')\n",
    "plt.ylabel('Predicted Y')"
   ]
  },
  {
   "cell_type": "code",
   "execution_count": 150,
   "metadata": {},
   "outputs": [
    {
     "data": {
      "text/html": [
       "<div>\n",
       "<style scoped>\n",
       "    .dataframe tbody tr th:only-of-type {\n",
       "        vertical-align: middle;\n",
       "    }\n",
       "\n",
       "    .dataframe tbody tr th {\n",
       "        vertical-align: top;\n",
       "    }\n",
       "\n",
       "    .dataframe thead th {\n",
       "        text-align: right;\n",
       "    }\n",
       "</style>\n",
       "<table border=\"1\" class=\"dataframe\">\n",
       "  <thead>\n",
       "    <tr style=\"text-align: right;\">\n",
       "      <th></th>\n",
       "      <th>Variable</th>\n",
       "      <th>Coeffecient</th>\n",
       "    </tr>\n",
       "  </thead>\n",
       "  <tbody>\n",
       "    <tr>\n",
       "      <th>0</th>\n",
       "      <td>HTOa</td>\n",
       "      <td>-0.022078</td>\n",
       "    </tr>\n",
       "    <tr>\n",
       "      <th>1</th>\n",
       "      <td>ATOa</td>\n",
       "      <td>-0.006561</td>\n",
       "    </tr>\n",
       "    <tr>\n",
       "      <th>2</th>\n",
       "      <td>HTAt</td>\n",
       "      <td>-0.114877</td>\n",
       "    </tr>\n",
       "    <tr>\n",
       "      <th>3</th>\n",
       "      <td>ATAt</td>\n",
       "      <td>-0.040185</td>\n",
       "    </tr>\n",
       "    <tr>\n",
       "      <th>4</th>\n",
       "      <td>HTMid</td>\n",
       "      <td>0.012897</td>\n",
       "    </tr>\n",
       "    <tr>\n",
       "      <th>5</th>\n",
       "      <td>ATMid</td>\n",
       "      <td>0.014150</td>\n",
       "    </tr>\n",
       "    <tr>\n",
       "      <th>6</th>\n",
       "      <td>HTDef</td>\n",
       "      <td>0.048500</td>\n",
       "    </tr>\n",
       "    <tr>\n",
       "      <th>7</th>\n",
       "      <td>ATDef</td>\n",
       "      <td>0.073489</td>\n",
       "    </tr>\n",
       "    <tr>\n",
       "      <th>8</th>\n",
       "      <td>HomeAvgAge</td>\n",
       "      <td>0.110424</td>\n",
       "    </tr>\n",
       "    <tr>\n",
       "      <th>9</th>\n",
       "      <td>AwayAvgAge</td>\n",
       "      <td>-0.005109</td>\n",
       "    </tr>\n",
       "    <tr>\n",
       "      <th>10</th>\n",
       "      <td>HomeMV</td>\n",
       "      <td>0.002499</td>\n",
       "    </tr>\n",
       "    <tr>\n",
       "      <th>11</th>\n",
       "      <td>AwayMV</td>\n",
       "      <td>-0.001806</td>\n",
       "    </tr>\n",
       "    <tr>\n",
       "      <th>12</th>\n",
       "      <td>B365H</td>\n",
       "      <td>0.013721</td>\n",
       "    </tr>\n",
       "    <tr>\n",
       "      <th>13</th>\n",
       "      <td>B365D</td>\n",
       "      <td>0.009205</td>\n",
       "    </tr>\n",
       "    <tr>\n",
       "      <th>14</th>\n",
       "      <td>B365A</td>\n",
       "      <td>-0.012079</td>\n",
       "    </tr>\n",
       "    <tr>\n",
       "      <th>15</th>\n",
       "      <td>BWH</td>\n",
       "      <td>0.007574</td>\n",
       "    </tr>\n",
       "    <tr>\n",
       "      <th>16</th>\n",
       "      <td>BWD</td>\n",
       "      <td>0.003377</td>\n",
       "    </tr>\n",
       "    <tr>\n",
       "      <th>17</th>\n",
       "      <td>BWA</td>\n",
       "      <td>-0.004792</td>\n",
       "    </tr>\n",
       "    <tr>\n",
       "      <th>18</th>\n",
       "      <td>IWH</td>\n",
       "      <td>0.013926</td>\n",
       "    </tr>\n",
       "    <tr>\n",
       "      <th>19</th>\n",
       "      <td>IWD</td>\n",
       "      <td>-0.020185</td>\n",
       "    </tr>\n",
       "    <tr>\n",
       "      <th>20</th>\n",
       "      <td>IWA</td>\n",
       "      <td>-0.015127</td>\n",
       "    </tr>\n",
       "    <tr>\n",
       "      <th>21</th>\n",
       "      <td>PSH</td>\n",
       "      <td>0.013476</td>\n",
       "    </tr>\n",
       "    <tr>\n",
       "      <th>22</th>\n",
       "      <td>PSD</td>\n",
       "      <td>-0.004936</td>\n",
       "    </tr>\n",
       "    <tr>\n",
       "      <th>23</th>\n",
       "      <td>PSA</td>\n",
       "      <td>-0.027827</td>\n",
       "    </tr>\n",
       "    <tr>\n",
       "      <th>24</th>\n",
       "      <td>WHH</td>\n",
       "      <td>0.021759</td>\n",
       "    </tr>\n",
       "    <tr>\n",
       "      <th>25</th>\n",
       "      <td>WHD</td>\n",
       "      <td>-0.010951</td>\n",
       "    </tr>\n",
       "    <tr>\n",
       "      <th>26</th>\n",
       "      <td>WHA</td>\n",
       "      <td>-0.020987</td>\n",
       "    </tr>\n",
       "    <tr>\n",
       "      <th>27</th>\n",
       "      <td>VCH</td>\n",
       "      <td>0.019387</td>\n",
       "    </tr>\n",
       "    <tr>\n",
       "      <th>28</th>\n",
       "      <td>VCD</td>\n",
       "      <td>-0.015516</td>\n",
       "    </tr>\n",
       "    <tr>\n",
       "      <th>29</th>\n",
       "      <td>VCA</td>\n",
       "      <td>-0.017110</td>\n",
       "    </tr>\n",
       "    <tr>\n",
       "      <th>30</th>\n",
       "      <td>PSCH</td>\n",
       "      <td>0.038926</td>\n",
       "    </tr>\n",
       "    <tr>\n",
       "      <th>31</th>\n",
       "      <td>PSCD</td>\n",
       "      <td>-0.003135</td>\n",
       "    </tr>\n",
       "    <tr>\n",
       "      <th>32</th>\n",
       "      <td>PSCA</td>\n",
       "      <td>0.012905</td>\n",
       "    </tr>\n",
       "  </tbody>\n",
       "</table>\n",
       "</div>"
      ],
      "text/plain": [
       "      Variable  Coeffecient\n",
       "0         HTOa    -0.022078\n",
       "1         ATOa    -0.006561\n",
       "2         HTAt    -0.114877\n",
       "3         ATAt    -0.040185\n",
       "4        HTMid     0.012897\n",
       "5        ATMid     0.014150\n",
       "6        HTDef     0.048500\n",
       "7        ATDef     0.073489\n",
       "8   HomeAvgAge     0.110424\n",
       "9   AwayAvgAge    -0.005109\n",
       "10      HomeMV     0.002499\n",
       "11      AwayMV    -0.001806\n",
       "12       B365H     0.013721\n",
       "13       B365D     0.009205\n",
       "14       B365A    -0.012079\n",
       "15         BWH     0.007574\n",
       "16         BWD     0.003377\n",
       "17         BWA    -0.004792\n",
       "18         IWH     0.013926\n",
       "19         IWD    -0.020185\n",
       "20         IWA    -0.015127\n",
       "21         PSH     0.013476\n",
       "22         PSD    -0.004936\n",
       "23         PSA    -0.027827\n",
       "24         WHH     0.021759\n",
       "25         WHD    -0.010951\n",
       "26         WHA    -0.020987\n",
       "27         VCH     0.019387\n",
       "28         VCD    -0.015516\n",
       "29         VCA    -0.017110\n",
       "30        PSCH     0.038926\n",
       "31        PSCD    -0.003135\n",
       "32        PSCA     0.012905"
      ]
     },
     "execution_count": 150,
     "metadata": {},
     "output_type": "execute_result"
    }
   ],
   "source": [
    "coeffecients = pd.DataFrame({'Variable':X.columns,'Coeffecient':lm.coef_[1]})\n",
    "coeffecients\n",
    "\n"
   ]
  },
  {
   "cell_type": "markdown",
   "metadata": {},
   "source": [
    "We can see that there is a relatively small impact of any one column on the outcome of the predictions. This makes sense as we have so many variables to look at. Interestingly, the market values of the two teams seem to have an almost negligable increase on the predictions. Even though the values tend to be large than the others, it is not big enough to overcome this."
   ]
  },
  {
   "cell_type": "code",
   "execution_count": 151,
   "metadata": {},
   "outputs": [
    {
     "name": "stdout",
     "output_type": "stream",
     "text": [
      "              precision    recall  f1-score   support\n",
      "\n",
      "          -1       0.57      0.75      0.65        40\n",
      "           0       0.20      0.07      0.11        27\n",
      "           1       0.55      0.60      0.57        47\n",
      "\n",
      "    accuracy                           0.53       114\n",
      "   macro avg       0.44      0.47      0.44       114\n",
      "weighted avg       0.47      0.53      0.49       114\n",
      "\n"
     ]
    }
   ],
   "source": [
    "from sklearn.metrics import classification_report\n",
    "print(classification_report(y_test,predictions))"
   ]
  },
  {
   "cell_type": "markdown",
   "metadata": {},
   "source": [
    "This is not very good. However, the amount of data may be a contributing factor here, as we only have 88 draws, 129 wins by the away team, and 163 wins by the home team. In future iterations, I plan to expand this to include more years' worth of data, and that may help the model become more accurate."
   ]
  },
  {
   "cell_type": "markdown",
   "metadata": {},
   "source": [
    "## K Nearest Neighbors"
   ]
  },
  {
   "cell_type": "code",
   "execution_count": 152,
   "metadata": {},
   "outputs": [],
   "source": [
    "from sklearn.neighbors import KNeighborsClassifier"
   ]
  },
  {
   "cell_type": "code",
   "execution_count": 153,
   "metadata": {},
   "outputs": [],
   "source": [
    "error_rate = []\n",
    "\n",
    "for i in range(1,50):\n",
    "    \n",
    "    knn = KNeighborsClassifier(n_neighbors=i)\n",
    "    knn.fit(X_train,y_train)\n",
    "    pred_i = knn.predict(X_test)\n",
    "    error_rate.append(np.mean(pred_i != y_test))"
   ]
  },
  {
   "cell_type": "code",
   "execution_count": 154,
   "metadata": {},
   "outputs": [
    {
     "data": {
      "text/plain": [
       "Text(0, 0.5, 'Error Rate')"
      ]
     },
     "execution_count": 154,
     "metadata": {},
     "output_type": "execute_result"
    },
    {
     "data": {
      "image/png": "[encoded data removed]",
      "text/plain": [
       "<Figure size 1000x600 with 1 Axes>"
      ]
     },
     "metadata": {},
     "output_type": "display_data"
    }
   ],
   "source": [
    "plt.figure(figsize=(10,6))\n",
    "plt.plot(range(1,50),error_rate,color='blue', linestyle='dashed', marker='o',\n",
    "         markerfacecolor='green', markersize=8)\n",
    "plt.title('Error Rate vs. K Value')\n",
    "plt.xlabel('K')\n",
    "plt.ylabel('Error Rate')"
   ]
  },
  {
   "cell_type": "markdown",
   "metadata": {},
   "source": [
    "Based on this, it looks like an K of 31 is our ideal selection. This gives us a comparatively low error rate at the smallest K value. While it looks like we can get a slightly smaller error at either 32 or 34, this requires our K to be larger, which may not be worth it if we are computing many data points as it will slow us down. The more points we have to check, the longer it will take. In this case it will not make a tangible difference, but to practice best practices, I will stick with using K = 31."
   ]
  },
  {
   "cell_type": "code",
   "execution_count": 155,
   "metadata": {},
   "outputs": [],
   "source": [
    "from sklearn.metrics import classification_report,confusion_matrix"
   ]
  },
  {
   "cell_type": "code",
   "execution_count": 156,
   "metadata": {},
   "outputs": [
    {
     "name": "stdout",
     "output_type": "stream",
     "text": [
      "WITH K=31\n",
      "\n",
      "\n",
      "[[26  5  9]\n",
      " [ 9  8 10]\n",
      " [ 8  6 33]]\n",
      "\n",
      "\n",
      "              precision    recall  f1-score   support\n",
      "\n",
      "          -1       0.60      0.65      0.63        40\n",
      "           0       0.42      0.30      0.35        27\n",
      "           1       0.63      0.70      0.67        47\n",
      "\n",
      "    accuracy                           0.59       114\n",
      "   macro avg       0.55      0.55      0.55       114\n",
      "weighted avg       0.57      0.59      0.58       114\n",
      "\n"
     ]
    }
   ],
   "source": [
    "knn = KNeighborsClassifier(n_neighbors=31)\n",
    "\n",
    "knn.fit(X_train,y_train)\n",
    "pred = knn.predict(X_test)\n",
    "\n",
    "print('WITH K=31')\n",
    "print('\\n')\n",
    "print(confusion_matrix(y_test,pred))\n",
    "print('\\n')\n",
    "print(classification_report(y_test,pred))"
   ]
  },
  {
   "cell_type": "markdown",
   "metadata": {},
   "source": [
    "KNN did better than a simple logistic regression, but still did not perform very well. We will continue to try other methods to improve."
   ]
  },
  {
   "cell_type": "markdown",
   "metadata": {},
   "source": [
    "## Decision Trees and Random Forests"
   ]
  },
  {
   "cell_type": "code",
   "execution_count": 157,
   "metadata": {},
   "outputs": [],
   "source": [
    "from sklearn.tree import DecisionTreeClassifier"
   ]
  },
  {
   "cell_type": "code",
   "execution_count": 158,
   "metadata": {},
   "outputs": [
    {
     "data": {
      "text/html": [
       "<style>#sk-container-id-9 {color: black;background-color: white;}#sk-container-id-9 pre{padding: 0;}#sk-container-id-9 div.sk-toggleable {background-color: white;}#sk-container-id-9 label.sk-toggleable__label {cursor: pointer;display: block;width: 100%;margin-bottom: 0;padding: 0.3em;box-sizing: border-box;text-align: center;}#sk-container-id-9 label.sk-toggleable__label-arrow:before {content: \"▸\";float: left;margin-right: 0.25em;color: #696969;}#sk-container-id-9 label.sk-toggleable__label-arrow:hover:before {color: black;}#sk-container-id-9 div.sk-estimator:hover label.sk-toggleable__label-arrow:before {color: black;}#sk-container-id-9 div.sk-toggleable__content {max-height: 0;max-width: 0;overflow: hidden;text-align: left;background-color: #f0f8ff;}#sk-container-id-9 div.sk-toggleable__content pre {margin: 0.2em;color: black;border-radius: 0.25em;background-color: #f0f8ff;}#sk-container-id-9 input.sk-toggleable__control:checked~div.sk-toggleable__content {max-height: 200px;max-width: 100%;overflow: auto;}#sk-container-id-9 input.sk-toggleable__control:checked~label.sk-toggleable__label-arrow:before {content: \"▾\";}#sk-container-id-9 div.sk-estimator input.sk-toggleable__control:checked~label.sk-toggleable__label {background-color: #d4ebff;}#sk-container-id-9 div.sk-label input.sk-toggleable__control:checked~label.sk-toggleable__label {background-color: #d4ebff;}#sk-container-id-9 input.sk-hidden--visually {border: 0;clip: rect(1px 1px 1px 1px);clip: rect(1px, 1px, 1px, 1px);height: 1px;margin: -1px;overflow: hidden;padding: 0;position: absolute;width: 1px;}#sk-container-id-9 div.sk-estimator {font-family: monospace;background-color: #f0f8ff;border: 1px dotted black;border-radius: 0.25em;box-sizing: border-box;margin-bottom: 0.5em;}#sk-container-id-9 div.sk-estimator:hover {background-color: #d4ebff;}#sk-container-id-9 div.sk-parallel-item::after {content: \"\";width: 100%;border-bottom: 1px solid gray;flex-grow: 1;}#sk-container-id-9 div.sk-label:hover label.sk-toggleable__label {background-color: #d4ebff;}#sk-container-id-9 div.sk-serial::before {content: \"\";position: absolute;border-left: 1px solid gray;box-sizing: border-box;top: 0;bottom: 0;left: 50%;z-index: 0;}#sk-container-id-9 div.sk-serial {display: flex;flex-direction: column;align-items: center;background-color: white;padding-right: 0.2em;padding-left: 0.2em;position: relative;}#sk-container-id-9 div.sk-item {position: relative;z-index: 1;}#sk-container-id-9 div.sk-parallel {display: flex;align-items: stretch;justify-content: center;background-color: white;position: relative;}#sk-container-id-9 div.sk-item::before, #sk-container-id-9 div.sk-parallel-item::before {content: \"\";position: absolute;border-left: 1px solid gray;box-sizing: border-box;top: 0;bottom: 0;left: 50%;z-index: -1;}#sk-container-id-9 div.sk-parallel-item {display: flex;flex-direction: column;z-index: 1;position: relative;background-color: white;}#sk-container-id-9 div.sk-parallel-item:first-child::after {align-self: flex-end;width: 50%;}#sk-container-id-9 div.sk-parallel-item:last-child::after {align-self: flex-start;width: 50%;}#sk-container-id-9 div.sk-parallel-item:only-child::after {width: 0;}#sk-container-id-9 div.sk-dashed-wrapped {border: 1px dashed gray;margin: 0 0.4em 0.5em 0.4em;box-sizing: border-box;padding-bottom: 0.4em;background-color: white;}#sk-container-id-9 div.sk-label label {font-family: monospace;font-weight: bold;display: inline-block;line-height: 1.2em;}#sk-container-id-9 div.sk-label-container {text-align: center;}#sk-container-id-9 div.sk-container {/* jupyter's `normalize.less` sets `[hidden] { display: none; }` but bootstrap.min.css set `[hidden] { display: none !important; }` so we also need the `!important` here to be able to override the default hidden behavior on the sphinx rendered scikit-learn.org. See: https://github.com/scikit-learn/scikit-learn/issues/21755 */display: inline-block !important;position: relative;}#sk-container-id-9 div.sk-text-repr-fallback {display: none;}</style><div id=\"sk-container-id-9\" class=\"sk-top-container\"><div class=\"sk-text-repr-fallback\"><pre>DecisionTreeClassifier()</pre><b>In a Jupyter environment, please rerun this cell to show the HTML representation or trust the notebook. <br />On GitHub, the HTML representation is unable to render, please try loading this page with nbviewer.org.</b></div><div class=\"sk-container\" hidden><div class=\"sk-item\"><div class=\"sk-estimator sk-toggleable\"><input class=\"sk-toggleable__control sk-hidden--visually\" id=\"sk-estimator-id-9\" type=\"checkbox\" checked><label for=\"sk-estimator-id-9\" class=\"sk-toggleable__label sk-toggleable__label-arrow\">DecisionTreeClassifier</label><div class=\"sk-toggleable__content\"><pre>DecisionTreeClassifier()</pre></div></div></div></div></div>"
      ],
      "text/plain": [
       "DecisionTreeClassifier()"
      ]
     },
     "execution_count": 158,
     "metadata": {},
     "output_type": "execute_result"
    }
   ],
   "source": [
    "dtree = DecisionTreeClassifier()\n",
    "dtree.fit(X_train,y_train)"
   ]
  },
  {
   "cell_type": "code",
   "execution_count": 159,
   "metadata": {},
   "outputs": [],
   "source": [
    "predictions = dtree.predict(X_test)"
   ]
  },
  {
   "cell_type": "code",
   "execution_count": 160,
   "metadata": {},
   "outputs": [
    {
     "name": "stdout",
     "output_type": "stream",
     "text": [
      "[[20  7 13]\n",
      " [ 9  9  9]\n",
      " [10 13 24]]\n",
      "\n",
      "\n",
      "              precision    recall  f1-score   support\n",
      "\n",
      "          -1       0.51      0.50      0.51        40\n",
      "           0       0.31      0.33      0.32        27\n",
      "           1       0.52      0.51      0.52        47\n",
      "\n",
      "    accuracy                           0.46       114\n",
      "   macro avg       0.45      0.45      0.45       114\n",
      "weighted avg       0.47      0.46      0.47       114\n",
      "\n"
     ]
    }
   ],
   "source": [
    "print(confusion_matrix(y_test,predictions))\n",
    "print('\\n')\n",
    "print(classification_report(y_test,predictions))"
   ]
  },
  {
   "cell_type": "markdown",
   "metadata": {},
   "source": [
    "This decision tree does not do very well, but lets see if a random forest can do better"
   ]
  },
  {
   "cell_type": "code",
   "execution_count": 161,
   "metadata": {},
   "outputs": [
    {
     "data": {
      "text/html": [
       "<style>#sk-container-id-10 {color: black;background-color: white;}#sk-container-id-10 pre{padding: 0;}#sk-container-id-10 div.sk-toggleable {background-color: white;}#sk-container-id-10 label.sk-toggleable__label {cursor: pointer;display: block;width: 100%;margin-bottom: 0;padding: 0.3em;box-sizing: border-box;text-align: center;}#sk-container-id-10 label.sk-toggleable__label-arrow:before {content: \"▸\";float: left;margin-right: 0.25em;color: #696969;}#sk-container-id-10 label.sk-toggleable__label-arrow:hover:before {color: black;}#sk-container-id-10 div.sk-estimator:hover label.sk-toggleable__label-arrow:before {color: black;}#sk-container-id-10 div.sk-toggleable__content {max-height: 0;max-width: 0;overflow: hidden;text-align: left;background-color: #f0f8ff;}#sk-container-id-10 div.sk-toggleable__content pre {margin: 0.2em;color: black;border-radius: 0.25em;background-color: #f0f8ff;}#sk-container-id-10 input.sk-toggleable__control:checked~div.sk-toggleable__content {max-height: 200px;max-width: 100%;overflow: auto;}#sk-container-id-10 input.sk-toggleable__control:checked~label.sk-toggleable__label-arrow:before {content: \"▾\";}#sk-container-id-10 div.sk-estimator input.sk-toggleable__control:checked~label.sk-toggleable__label {background-color: #d4ebff;}#sk-container-id-10 div.sk-label input.sk-toggleable__control:checked~label.sk-toggleable__label {background-color: #d4ebff;}#sk-container-id-10 input.sk-hidden--visually {border: 0;clip: rect(1px 1px 1px 1px);clip: rect(1px, 1px, 1px, 1px);height: 1px;margin: -1px;overflow: hidden;padding: 0;position: absolute;width: 1px;}#sk-container-id-10 div.sk-estimator {font-family: monospace;background-color: #f0f8ff;border: 1px dotted black;border-radius: 0.25em;box-sizing: border-box;margin-bottom: 0.5em;}#sk-container-id-10 div.sk-estimator:hover {background-color: #d4ebff;}#sk-container-id-10 div.sk-parallel-item::after {content: \"\";width: 100%;border-bottom: 1px solid gray;flex-grow: 1;}#sk-container-id-10 div.sk-label:hover label.sk-toggleable__label {background-color: #d4ebff;}#sk-container-id-10 div.sk-serial::before {content: \"\";position: absolute;border-left: 1px solid gray;box-sizing: border-box;top: 0;bottom: 0;left: 50%;z-index: 0;}#sk-container-id-10 div.sk-serial {display: flex;flex-direction: column;align-items: center;background-color: white;padding-right: 0.2em;padding-left: 0.2em;position: relative;}#sk-container-id-10 div.sk-item {position: relative;z-index: 1;}#sk-container-id-10 div.sk-parallel {display: flex;align-items: stretch;justify-content: center;background-color: white;position: relative;}#sk-container-id-10 div.sk-item::before, #sk-container-id-10 div.sk-parallel-item::before {content: \"\";position: absolute;border-left: 1px solid gray;box-sizing: border-box;top: 0;bottom: 0;left: 50%;z-index: -1;}#sk-container-id-10 div.sk-parallel-item {display: flex;flex-direction: column;z-index: 1;position: relative;background-color: white;}#sk-container-id-10 div.sk-parallel-item:first-child::after {align-self: flex-end;width: 50%;}#sk-container-id-10 div.sk-parallel-item:last-child::after {align-self: flex-start;width: 50%;}#sk-container-id-10 div.sk-parallel-item:only-child::after {width: 0;}#sk-container-id-10 div.sk-dashed-wrapped {border: 1px dashed gray;margin: 0 0.4em 0.5em 0.4em;box-sizing: border-box;padding-bottom: 0.4em;background-color: white;}#sk-container-id-10 div.sk-label label {font-family: monospace;font-weight: bold;display: inline-block;line-height: 1.2em;}#sk-container-id-10 div.sk-label-container {text-align: center;}#sk-container-id-10 div.sk-container {/* jupyter's `normalize.less` sets `[hidden] { display: none; }` but bootstrap.min.css set `[hidden] { display: none !important; }` so we also need the `!important` here to be able to override the default hidden behavior on the sphinx rendered scikit-learn.org. See: https://github.com/scikit-learn/scikit-learn/issues/21755 */display: inline-block !important;position: relative;}#sk-container-id-10 div.sk-text-repr-fallback {display: none;}</style><div id=\"sk-container-id-10\" class=\"sk-top-container\"><div class=\"sk-text-repr-fallback\"><pre>RandomForestClassifier(n_estimators=600)</pre><b>In a Jupyter environment, please rerun this cell to show the HTML representation or trust the notebook. <br />On GitHub, the HTML representation is unable to render, please try loading this page with nbviewer.org.</b></div><div class=\"sk-container\" hidden><div class=\"sk-item\"><div class=\"sk-estimator sk-toggleable\"><input class=\"sk-toggleable__control sk-hidden--visually\" id=\"sk-estimator-id-10\" type=\"checkbox\" checked><label for=\"sk-estimator-id-10\" class=\"sk-toggleable__label sk-toggleable__label-arrow\">RandomForestClassifier</label><div class=\"sk-toggleable__content\"><pre>RandomForestClassifier(n_estimators=600)</pre></div></div></div></div></div>"
      ],
      "text/plain": [
       "RandomForestClassifier(n_estimators=600)"
      ]
     },
     "execution_count": 161,
     "metadata": {},
     "output_type": "execute_result"
    }
   ],
   "source": [
    "from sklearn.ensemble import RandomForestClassifier\n",
    "rfc = RandomForestClassifier(n_estimators=600)\n",
    "rfc.fit(X_train,y_train)"
   ]
  },
  {
   "cell_type": "code",
   "execution_count": 162,
   "metadata": {},
   "outputs": [],
   "source": [
    "predictions = rfc.predict(X_test)"
   ]
  },
  {
   "cell_type": "code",
   "execution_count": 163,
   "metadata": {},
   "outputs": [
    {
     "name": "stdout",
     "output_type": "stream",
     "text": [
      "[[24  3 13]\n",
      " [11  4 12]\n",
      " [11  7 29]]\n",
      "\n",
      "\n",
      "              precision    recall  f1-score   support\n",
      "\n",
      "          -1       0.52      0.60      0.56        40\n",
      "           0       0.29      0.15      0.20        27\n",
      "           1       0.54      0.62      0.57        47\n",
      "\n",
      "    accuracy                           0.50       114\n",
      "   macro avg       0.45      0.46      0.44       114\n",
      "weighted avg       0.47      0.50      0.48       114\n",
      "\n"
     ]
    }
   ],
   "source": [
    "print(confusion_matrix(y_test,predictions))\n",
    "print('\\n')\n",
    "print(classification_report(y_test,predictions))"
   ]
  },
  {
   "cell_type": "markdown",
   "metadata": {},
   "source": [
    "The random forest does better than the decision tree, but still not as good as KNN. Next, let's see if Support Vector Machines can improve our predictive results."
   ]
  },
  {
   "cell_type": "markdown",
   "metadata": {},
   "source": [
    "## Support Vector Machines"
   ]
  },
  {
   "cell_type": "code",
   "execution_count": 164,
   "metadata": {},
   "outputs": [
    {
     "data": {
      "text/html": [
       "<style>#sk-container-id-11 {color: black;background-color: white;}#sk-container-id-11 pre{padding: 0;}#sk-container-id-11 div.sk-toggleable {background-color: white;}#sk-container-id-11 label.sk-toggleable__label {cursor: pointer;display: block;width: 100%;margin-bottom: 0;padding: 0.3em;box-sizing: border-box;text-align: center;}#sk-container-id-11 label.sk-toggleable__label-arrow:before {content: \"▸\";float: left;margin-right: 0.25em;color: #696969;}#sk-container-id-11 label.sk-toggleable__label-arrow:hover:before {color: black;}#sk-container-id-11 div.sk-estimator:hover label.sk-toggleable__label-arrow:before {color: black;}#sk-container-id-11 div.sk-toggleable__content {max-height: 0;max-width: 0;overflow: hidden;text-align: left;background-color: #f0f8ff;}#sk-container-id-11 div.sk-toggleable__content pre {margin: 0.2em;color: black;border-radius: 0.25em;background-color: #f0f8ff;}#sk-container-id-11 input.sk-toggleable__control:checked~div.sk-toggleable__content {max-height: 200px;max-width: 100%;overflow: auto;}#sk-container-id-11 input.sk-toggleable__control:checked~label.sk-toggleable__label-arrow:before {content: \"▾\";}#sk-container-id-11 div.sk-estimator input.sk-toggleable__control:checked~label.sk-toggleable__label {background-color: #d4ebff;}#sk-container-id-11 div.sk-label input.sk-toggleable__control:checked~label.sk-toggleable__label {background-color: #d4ebff;}#sk-container-id-11 input.sk-hidden--visually {border: 0;clip: rect(1px 1px 1px 1px);clip: rect(1px, 1px, 1px, 1px);height: 1px;margin: -1px;overflow: hidden;padding: 0;position: absolute;width: 1px;}#sk-container-id-11 div.sk-estimator {font-family: monospace;background-color: #f0f8ff;border: 1px dotted black;border-radius: 0.25em;box-sizing: border-box;margin-bottom: 0.5em;}#sk-container-id-11 div.sk-estimator:hover {background-color: #d4ebff;}#sk-container-id-11 div.sk-parallel-item::after {content: \"\";width: 100%;border-bottom: 1px solid gray;flex-grow: 1;}#sk-container-id-11 div.sk-label:hover label.sk-toggleable__label {background-color: #d4ebff;}#sk-container-id-11 div.sk-serial::before {content: \"\";position: absolute;border-left: 1px solid gray;box-sizing: border-box;top: 0;bottom: 0;left: 50%;z-index: 0;}#sk-container-id-11 div.sk-serial {display: flex;flex-direction: column;align-items: center;background-color: white;padding-right: 0.2em;padding-left: 0.2em;position: relative;}#sk-container-id-11 div.sk-item {position: relative;z-index: 1;}#sk-container-id-11 div.sk-parallel {display: flex;align-items: stretch;justify-content: center;background-color: white;position: relative;}#sk-container-id-11 div.sk-item::before, #sk-container-id-11 div.sk-parallel-item::before {content: \"\";position: absolute;border-left: 1px solid gray;box-sizing: border-box;top: 0;bottom: 0;left: 50%;z-index: -1;}#sk-container-id-11 div.sk-parallel-item {display: flex;flex-direction: column;z-index: 1;position: relative;background-color: white;}#sk-container-id-11 div.sk-parallel-item:first-child::after {align-self: flex-end;width: 50%;}#sk-container-id-11 div.sk-parallel-item:last-child::after {align-self: flex-start;width: 50%;}#sk-container-id-11 div.sk-parallel-item:only-child::after {width: 0;}#sk-container-id-11 div.sk-dashed-wrapped {border: 1px dashed gray;margin: 0 0.4em 0.5em 0.4em;box-sizing: border-box;padding-bottom: 0.4em;background-color: white;}#sk-container-id-11 div.sk-label label {font-family: monospace;font-weight: bold;display: inline-block;line-height: 1.2em;}#sk-container-id-11 div.sk-label-container {text-align: center;}#sk-container-id-11 div.sk-container {/* jupyter's `normalize.less` sets `[hidden] { display: none; }` but bootstrap.min.css set `[hidden] { display: none !important; }` so we also need the `!important` here to be able to override the default hidden behavior on the sphinx rendered scikit-learn.org. See: https://github.com/scikit-learn/scikit-learn/issues/21755 */display: inline-block !important;position: relative;}#sk-container-id-11 div.sk-text-repr-fallback {display: none;}</style><div id=\"sk-container-id-11\" class=\"sk-top-container\"><div class=\"sk-text-repr-fallback\"><pre>SVC()</pre><b>In a Jupyter environment, please rerun this cell to show the HTML representation or trust the notebook. <br />On GitHub, the HTML representation is unable to render, please try loading this page with nbviewer.org.</b></div><div class=\"sk-container\" hidden><div class=\"sk-item\"><div class=\"sk-estimator sk-toggleable\"><input class=\"sk-toggleable__control sk-hidden--visually\" id=\"sk-estimator-id-11\" type=\"checkbox\" checked><label for=\"sk-estimator-id-11\" class=\"sk-toggleable__label sk-toggleable__label-arrow\">SVC</label><div class=\"sk-toggleable__content\"><pre>SVC()</pre></div></div></div></div></div>"
      ],
      "text/plain": [
       "SVC()"
      ]
     },
     "execution_count": 164,
     "metadata": {},
     "output_type": "execute_result"
    }
   ],
   "source": [
    "from sklearn.svm import SVC\n",
    "svc_model = SVC()\n",
    "svc_model.fit(X_train,y_train)"
   ]
  },
  {
   "cell_type": "code",
   "execution_count": 165,
   "metadata": {},
   "outputs": [],
   "source": [
    "predictions = svc_model.predict(X_test)"
   ]
  },
  {
   "cell_type": "code",
   "execution_count": 166,
   "metadata": {},
   "outputs": [
    {
     "name": "stdout",
     "output_type": "stream",
     "text": [
      "[[26  2 12]\n",
      " [11  0 16]\n",
      " [12  2 33]]\n",
      "\n",
      "\n",
      "              precision    recall  f1-score   support\n",
      "\n",
      "          -1       0.53      0.65      0.58        40\n",
      "           0       0.00      0.00      0.00        27\n",
      "           1       0.54      0.70      0.61        47\n",
      "\n",
      "    accuracy                           0.52       114\n",
      "   macro avg       0.36      0.45      0.40       114\n",
      "weighted avg       0.41      0.52      0.46       114\n",
      "\n"
     ]
    }
   ],
   "source": [
    "print(confusion_matrix(y_test,predictions))\n",
    "print('\\n')\n",
    "print(classification_report(y_test,predictions))"
   ]
  },
  {
   "cell_type": "markdown",
   "metadata": {},
   "source": [
    "We have still failed to improve on KNN. Next is going to be K Means Clustering."
   ]
  },
  {
   "cell_type": "markdown",
   "metadata": {},
   "source": [
    "## K Means Clustering"
   ]
  },
  {
   "cell_type": "code",
   "execution_count": 167,
   "metadata": {},
   "outputs": [],
   "source": [
    "from sklearn.cluster import KMeans\n",
    "kmeans = KMeans(n_clusters=3)"
   ]
  },
  {
   "cell_type": "code",
   "execution_count": 168,
   "metadata": {},
   "outputs": [
    {
     "name": "stderr",
     "output_type": "stream",
     "text": [
      "/Library/Frameworks/Python.framework/Versions/3.11/lib/python3.11/site-packages/sklearn/cluster/_kmeans.py:870: FutureWarning: The default value of `n_init` will change from 10 to 'auto' in 1.4. Set the value of `n_init` explicitly to suppress the warning\n",
      "  warnings.warn(\n"
     ]
    },
    {
     "data": {
      "text/html": [
       "<style>#sk-container-id-12 {color: black;background-color: white;}#sk-container-id-12 pre{padding: 0;}#sk-container-id-12 div.sk-toggleable {background-color: white;}#sk-container-id-12 label.sk-toggleable__label {cursor: pointer;display: block;width: 100%;margin-bottom: 0;padding: 0.3em;box-sizing: border-box;text-align: center;}#sk-container-id-12 label.sk-toggleable__label-arrow:before {content: \"▸\";float: left;margin-right: 0.25em;color: #696969;}#sk-container-id-12 label.sk-toggleable__label-arrow:hover:before {color: black;}#sk-container-id-12 div.sk-estimator:hover label.sk-toggleable__label-arrow:before {color: black;}#sk-container-id-12 div.sk-toggleable__content {max-height: 0;max-width: 0;overflow: hidden;text-align: left;background-color: #f0f8ff;}#sk-container-id-12 div.sk-toggleable__content pre {margin: 0.2em;color: black;border-radius: 0.25em;background-color: #f0f8ff;}#sk-container-id-12 input.sk-toggleable__control:checked~div.sk-toggleable__content {max-height: 200px;max-width: 100%;overflow: auto;}#sk-container-id-12 input.sk-toggleable__control:checked~label.sk-toggleable__label-arrow:before {content: \"▾\";}#sk-container-id-12 div.sk-estimator input.sk-toggleable__control:checked~label.sk-toggleable__label {background-color: #d4ebff;}#sk-container-id-12 div.sk-label input.sk-toggleable__control:checked~label.sk-toggleable__label {background-color: #d4ebff;}#sk-container-id-12 input.sk-hidden--visually {border: 0;clip: rect(1px 1px 1px 1px);clip: rect(1px, 1px, 1px, 1px);height: 1px;margin: -1px;overflow: hidden;padding: 0;position: absolute;width: 1px;}#sk-container-id-12 div.sk-estimator {font-family: monospace;background-color: #f0f8ff;border: 1px dotted black;border-radius: 0.25em;box-sizing: border-box;margin-bottom: 0.5em;}#sk-container-id-12 div.sk-estimator:hover {background-color: #d4ebff;}#sk-container-id-12 div.sk-parallel-item::after {content: \"\";width: 100%;border-bottom: 1px solid gray;flex-grow: 1;}#sk-container-id-12 div.sk-label:hover label.sk-toggleable__label {background-color: #d4ebff;}#sk-container-id-12 div.sk-serial::before {content: \"\";position: absolute;border-left: 1px solid gray;box-sizing: border-box;top: 0;bottom: 0;left: 50%;z-index: 0;}#sk-container-id-12 div.sk-serial {display: flex;flex-direction: column;align-items: center;background-color: white;padding-right: 0.2em;padding-left: 0.2em;position: relative;}#sk-container-id-12 div.sk-item {position: relative;z-index: 1;}#sk-container-id-12 div.sk-parallel {display: flex;align-items: stretch;justify-content: center;background-color: white;position: relative;}#sk-container-id-12 div.sk-item::before, #sk-container-id-12 div.sk-parallel-item::before {content: \"\";position: absolute;border-left: 1px solid gray;box-sizing: border-box;top: 0;bottom: 0;left: 50%;z-index: -1;}#sk-container-id-12 div.sk-parallel-item {display: flex;flex-direction: column;z-index: 1;position: relative;background-color: white;}#sk-container-id-12 div.sk-parallel-item:first-child::after {align-self: flex-end;width: 50%;}#sk-container-id-12 div.sk-parallel-item:last-child::after {align-self: flex-start;width: 50%;}#sk-container-id-12 div.sk-parallel-item:only-child::after {width: 0;}#sk-container-id-12 div.sk-dashed-wrapped {border: 1px dashed gray;margin: 0 0.4em 0.5em 0.4em;box-sizing: border-box;padding-bottom: 0.4em;background-color: white;}#sk-container-id-12 div.sk-label label {font-family: monospace;font-weight: bold;display: inline-block;line-height: 1.2em;}#sk-container-id-12 div.sk-label-container {text-align: center;}#sk-container-id-12 div.sk-container {/* jupyter's `normalize.less` sets `[hidden] { display: none; }` but bootstrap.min.css set `[hidden] { display: none !important; }` so we also need the `!important` here to be able to override the default hidden behavior on the sphinx rendered scikit-learn.org. See: https://github.com/scikit-learn/scikit-learn/issues/21755 */display: inline-block !important;position: relative;}#sk-container-id-12 div.sk-text-repr-fallback {display: none;}</style><div id=\"sk-container-id-12\" class=\"sk-top-container\"><div class=\"sk-text-repr-fallback\"><pre>KMeans(n_clusters=3)</pre><b>In a Jupyter environment, please rerun this cell to show the HTML representation or trust the notebook. <br />On GitHub, the HTML representation is unable to render, please try loading this page with nbviewer.org.</b></div><div class=\"sk-container\" hidden><div class=\"sk-item\"><div class=\"sk-estimator sk-toggleable\"><input class=\"sk-toggleable__control sk-hidden--visually\" id=\"sk-estimator-id-12\" type=\"checkbox\" checked><label for=\"sk-estimator-id-12\" class=\"sk-toggleable__label sk-toggleable__label-arrow\">KMeans</label><div class=\"sk-toggleable__content\"><pre>KMeans(n_clusters=3)</pre></div></div></div></div></div>"
      ],
      "text/plain": [
       "KMeans(n_clusters=3)"
      ]
     },
     "execution_count": 168,
     "metadata": {},
     "output_type": "execute_result"
    }
   ],
   "source": [
    "kmeans.fit(X)"
   ]
  },
  {
   "cell_type": "code",
   "execution_count": 169,
   "metadata": {},
   "outputs": [
    {
     "data": {
      "text/plain": [
       "array([[ 76.57142857,  76.58241758,  77.28571429,  77.24725275,\n",
       "         76.7032967 ,  76.7032967 ,  75.92307692,  76.08791209,\n",
       "         24.85714286,  24.85714286, 316.61785707, 316.61785707,\n",
       "          2.37912088,   3.50016484,   3.49736264,   2.36950549,\n",
       "          3.49164835,   3.4617033 ,   2.39142857,   3.49313187,\n",
       "          3.44351648,   2.45335165,   3.56681319,   3.62362637,\n",
       "          2.37098901,   3.40813187,   3.50120879,   2.3578022 ,\n",
       "          3.41642857,   3.50582418,   2.48164835,   3.54587912,\n",
       "          3.67032967],\n",
       "       [ 77.42      ,  83.01      ,  78.44      ,  84.28      ,\n",
       "         77.47      ,  83.25      ,  76.82      ,  82.25      ,\n",
       "         24.68      ,  24.05      , 383.92799994, 832.3055    ,\n",
       "          5.8368    ,   4.2931    ,   1.7873    ,   5.7837    ,\n",
       "          4.2683    ,   1.7834    ,   5.742     ,   4.28      ,\n",
       "          1.8113    ,   6.1403    ,   4.3813    ,   1.8399    ,\n",
       "          5.9353    ,   4.1256    ,   1.7914    ,   6.0644    ,\n",
       "          4.1671    ,   1.7786    ,   6.1776    ,   4.4052    ,\n",
       "          1.8534    ],\n",
       "       [ 82.98979592,  77.30612245,  84.20408163,  78.12244898,\n",
       "         83.25510204,  77.33673469,  82.12244898,  76.41836735,\n",
       "         24.04081633,  24.68367347, 830.58316327, 373.05510198,\n",
       "          1.41744898,   5.56071429,   9.86714286,   1.43163265,\n",
       "          5.51653061,   9.74030612,   1.44581633,   5.44081633,\n",
       "          9.44489796,   1.45173469,   5.74122449,  10.82530612,\n",
       "          1.42336735,   5.22040816,  10.27806122,   1.40734694,\n",
       "          5.42132653,  10.44438776,   1.46479592,   5.73183673,\n",
       "         10.61030612]])"
      ]
     },
     "execution_count": 169,
     "metadata": {},
     "output_type": "execute_result"
    }
   ],
   "source": [
    "kmeans.cluster_centers_"
   ]
  },
  {
   "cell_type": "code",
   "execution_count": 170,
   "metadata": {},
   "outputs": [],
   "source": [
    "def converter(cluster):\n",
    "    if cluster == 1:\n",
    "        return 2\n",
    "    if cluster == 0:\n",
    "        return 0\n",
    "    else:\n",
    "        return 1"
   ]
  },
  {
   "cell_type": "code",
   "execution_count": 171,
   "metadata": {},
   "outputs": [],
   "source": [
    "pregame_epl_data['Converted Result'] = pregame_epl_data['Result'].apply(converter)"
   ]
  },
  {
   "cell_type": "code",
   "execution_count": 172,
   "metadata": {},
   "outputs": [
    {
     "data": {
      "text/html": [
       "<div>\n",
       "<style scoped>\n",
       "    .dataframe tbody tr th:only-of-type {\n",
       "        vertical-align: middle;\n",
       "    }\n",
       "\n",
       "    .dataframe tbody tr th {\n",
       "        vertical-align: top;\n",
       "    }\n",
       "\n",
       "    .dataframe thead th {\n",
       "        text-align: right;\n",
       "    }\n",
       "</style>\n",
       "<table border=\"1\" class=\"dataframe\">\n",
       "  <thead>\n",
       "    <tr style=\"text-align: right;\">\n",
       "      <th></th>\n",
       "      <th>Date</th>\n",
       "      <th>HTOa</th>\n",
       "      <th>ATOa</th>\n",
       "      <th>HTAt</th>\n",
       "      <th>ATAt</th>\n",
       "      <th>HTMid</th>\n",
       "      <th>ATMid</th>\n",
       "      <th>HTDef</th>\n",
       "      <th>ATDef</th>\n",
       "      <th>HomeAvgAge</th>\n",
       "      <th>...</th>\n",
       "      <th>WHD</th>\n",
       "      <th>WHA</th>\n",
       "      <th>VCH</th>\n",
       "      <th>VCD</th>\n",
       "      <th>VCA</th>\n",
       "      <th>PSCH</th>\n",
       "      <th>PSCD</th>\n",
       "      <th>PSCA</th>\n",
       "      <th>Result</th>\n",
       "      <th>Converted Result</th>\n",
       "    </tr>\n",
       "  </thead>\n",
       "  <tbody>\n",
       "    <tr>\n",
       "      <th>0</th>\n",
       "      <td>2021-08-13</td>\n",
       "      <td>73</td>\n",
       "      <td>79</td>\n",
       "      <td>73</td>\n",
       "      <td>82</td>\n",
       "      <td>73</td>\n",
       "      <td>80</td>\n",
       "      <td>74</td>\n",
       "      <td>77</td>\n",
       "      <td>24</td>\n",
       "      <td>...</td>\n",
       "      <td>3.40</td>\n",
       "      <td>1.90</td>\n",
       "      <td>4.10</td>\n",
       "      <td>3.40</td>\n",
       "      <td>2.00</td>\n",
       "      <td>3.94</td>\n",
       "      <td>3.33</td>\n",
       "      <td>2.13</td>\n",
       "      <td>1</td>\n",
       "      <td>2</td>\n",
       "    </tr>\n",
       "    <tr>\n",
       "      <th>1</th>\n",
       "      <td>2021-08-14</td>\n",
       "      <td>83</td>\n",
       "      <td>76</td>\n",
       "      <td>83</td>\n",
       "      <td>78</td>\n",
       "      <td>84</td>\n",
       "      <td>77</td>\n",
       "      <td>83</td>\n",
       "      <td>76</td>\n",
       "      <td>25</td>\n",
       "      <td>...</td>\n",
       "      <td>4.33</td>\n",
       "      <td>5.80</td>\n",
       "      <td>1.55</td>\n",
       "      <td>4.40</td>\n",
       "      <td>6.00</td>\n",
       "      <td>1.67</td>\n",
       "      <td>4.20</td>\n",
       "      <td>5.40</td>\n",
       "      <td>1</td>\n",
       "      <td>2</td>\n",
       "    </tr>\n",
       "    <tr>\n",
       "      <th>2</th>\n",
       "      <td>2021-08-14</td>\n",
       "      <td>76</td>\n",
       "      <td>75</td>\n",
       "      <td>75</td>\n",
       "      <td>75</td>\n",
       "      <td>76</td>\n",
       "      <td>75</td>\n",
       "      <td>77</td>\n",
       "      <td>76</td>\n",
       "      <td>27</td>\n",
       "      <td>...</td>\n",
       "      <td>3.00</td>\n",
       "      <td>2.45</td>\n",
       "      <td>3.13</td>\n",
       "      <td>3.10</td>\n",
       "      <td>2.45</td>\n",
       "      <td>3.27</td>\n",
       "      <td>3.14</td>\n",
       "      <td>2.51</td>\n",
       "      <td>-1</td>\n",
       "      <td>1</td>\n",
       "    </tr>\n",
       "    <tr>\n",
       "      <th>3</th>\n",
       "      <td>2021-08-14</td>\n",
       "      <td>83</td>\n",
       "      <td>76</td>\n",
       "      <td>84</td>\n",
       "      <td>77</td>\n",
       "      <td>85</td>\n",
       "      <td>75</td>\n",
       "      <td>82</td>\n",
       "      <td>74</td>\n",
       "      <td>25</td>\n",
       "      <td>...</td>\n",
       "      <td>5.50</td>\n",
       "      <td>13.00</td>\n",
       "      <td>1.25</td>\n",
       "      <td>5.75</td>\n",
       "      <td>13.00</td>\n",
       "      <td>1.34</td>\n",
       "      <td>5.40</td>\n",
       "      <td>11.00</td>\n",
       "      <td>1</td>\n",
       "      <td>2</td>\n",
       "    </tr>\n",
       "    <tr>\n",
       "      <th>4</th>\n",
       "      <td>2021-08-14</td>\n",
       "      <td>79</td>\n",
       "      <td>76</td>\n",
       "      <td>80</td>\n",
       "      <td>76</td>\n",
       "      <td>79</td>\n",
       "      <td>76</td>\n",
       "      <td>79</td>\n",
       "      <td>76</td>\n",
       "      <td>25</td>\n",
       "      <td>...</td>\n",
       "      <td>3.40</td>\n",
       "      <td>4.00</td>\n",
       "      <td>1.95</td>\n",
       "      <td>3.40</td>\n",
       "      <td>4.10</td>\n",
       "      <td>2.05</td>\n",
       "      <td>3.45</td>\n",
       "      <td>4.07</td>\n",
       "      <td>1</td>\n",
       "      <td>2</td>\n",
       "    </tr>\n",
       "  </tbody>\n",
       "</table>\n",
       "<p>5 rows × 36 columns</p>\n",
       "</div>"
      ],
      "text/plain": [
       "        Date  HTOa  ATOa  HTAt  ATAt  HTMid  ATMid  HTDef  ATDef  HomeAvgAge   \n",
       "0 2021-08-13    73    79    73    82     73     80     74     77          24  \\\n",
       "1 2021-08-14    83    76    83    78     84     77     83     76          25   \n",
       "2 2021-08-14    76    75    75    75     76     75     77     76          27   \n",
       "3 2021-08-14    83    76    84    77     85     75     82     74          25   \n",
       "4 2021-08-14    79    76    80    76     79     76     79     76          25   \n",
       "\n",
       "   ...   WHD    WHA   VCH   VCD    VCA  PSCH  PSCD   PSCA  Result   \n",
       "0  ...  3.40   1.90  4.10  3.40   2.00  3.94  3.33   2.13       1  \\\n",
       "1  ...  4.33   5.80  1.55  4.40   6.00  1.67  4.20   5.40       1   \n",
       "2  ...  3.00   2.45  3.13  3.10   2.45  3.27  3.14   2.51      -1   \n",
       "3  ...  5.50  13.00  1.25  5.75  13.00  1.34  5.40  11.00       1   \n",
       "4  ...  3.40   4.00  1.95  3.40   4.10  2.05  3.45   4.07       1   \n",
       "\n",
       "   Converted Result  \n",
       "0                 2  \n",
       "1                 2  \n",
       "2                 1  \n",
       "3                 2  \n",
       "4                 2  \n",
       "\n",
       "[5 rows x 36 columns]"
      ]
     },
     "execution_count": 172,
     "metadata": {},
     "output_type": "execute_result"
    }
   ],
   "source": [
    "pregame_epl_data.head()"
   ]
  },
  {
   "cell_type": "code",
   "execution_count": 173,
   "metadata": {},
   "outputs": [
    {
     "name": "stdout",
     "output_type": "stream",
     "text": [
      "[[53 19 16]\n",
      " [58 61 10]\n",
      " [71 20 72]]\n",
      "              precision    recall  f1-score   support\n",
      "\n",
      "           0       0.29      0.60      0.39        88\n",
      "           1       0.61      0.47      0.53       129\n",
      "           2       0.73      0.44      0.55       163\n",
      "\n",
      "    accuracy                           0.49       380\n",
      "   macro avg       0.55      0.51      0.49       380\n",
      "weighted avg       0.59      0.49      0.51       380\n",
      "\n"
     ]
    }
   ],
   "source": [
    "print(confusion_matrix(pregame_epl_data['Converted Result'],kmeans.labels_))\n",
    "print(classification_report(pregame_epl_data['Converted Result'],kmeans.labels_))"
   ]
  },
  {
   "cell_type": "markdown",
   "metadata": {},
   "source": [
    "K Means Clustering did not do well in grouping the data. While the precision for 2 (Home Wins) is impressive, it did very poorly in classifying draws (0) and very mediocre at classifying away wins (1). At this point, I am starting to believe that the lack of data is partially leading to these poor results."
   ]
  },
  {
   "cell_type": "markdown",
   "metadata": {},
   "source": [
    "## Principal Component Analysis (PCA)"
   ]
  },
  {
   "cell_type": "code",
   "execution_count": 174,
   "metadata": {},
   "outputs": [],
   "source": [
    "pregame_epl_data = pregame_epl_data.drop('Converted Result', axis = 1)"
   ]
  },
  {
   "cell_type": "code",
   "execution_count": 175,
   "metadata": {},
   "outputs": [],
   "source": [
    "from sklearn.preprocessing import StandardScaler\n",
    "scaler = StandardScaler()"
   ]
  },
  {
   "cell_type": "code",
   "execution_count": 176,
   "metadata": {},
   "outputs": [
    {
     "data": {
      "text/html": [
       "<style>#sk-container-id-13 {color: black;background-color: white;}#sk-container-id-13 pre{padding: 0;}#sk-container-id-13 div.sk-toggleable {background-color: white;}#sk-container-id-13 label.sk-toggleable__label {cursor: pointer;display: block;width: 100%;margin-bottom: 0;padding: 0.3em;box-sizing: border-box;text-align: center;}#sk-container-id-13 label.sk-toggleable__label-arrow:before {content: \"▸\";float: left;margin-right: 0.25em;color: #696969;}#sk-container-id-13 label.sk-toggleable__label-arrow:hover:before {color: black;}#sk-container-id-13 div.sk-estimator:hover label.sk-toggleable__label-arrow:before {color: black;}#sk-container-id-13 div.sk-toggleable__content {max-height: 0;max-width: 0;overflow: hidden;text-align: left;background-color: #f0f8ff;}#sk-container-id-13 div.sk-toggleable__content pre {margin: 0.2em;color: black;border-radius: 0.25em;background-color: #f0f8ff;}#sk-container-id-13 input.sk-toggleable__control:checked~div.sk-toggleable__content {max-height: 200px;max-width: 100%;overflow: auto;}#sk-container-id-13 input.sk-toggleable__control:checked~label.sk-toggleable__label-arrow:before {content: \"▾\";}#sk-container-id-13 div.sk-estimator input.sk-toggleable__control:checked~label.sk-toggleable__label {background-color: #d4ebff;}#sk-container-id-13 div.sk-label input.sk-toggleable__control:checked~label.sk-toggleable__label {background-color: #d4ebff;}#sk-container-id-13 input.sk-hidden--visually {border: 0;clip: rect(1px 1px 1px 1px);clip: rect(1px, 1px, 1px, 1px);height: 1px;margin: -1px;overflow: hidden;padding: 0;position: absolute;width: 1px;}#sk-container-id-13 div.sk-estimator {font-family: monospace;background-color: #f0f8ff;border: 1px dotted black;border-radius: 0.25em;box-sizing: border-box;margin-bottom: 0.5em;}#sk-container-id-13 div.sk-estimator:hover {background-color: #d4ebff;}#sk-container-id-13 div.sk-parallel-item::after {content: \"\";width: 100%;border-bottom: 1px solid gray;flex-grow: 1;}#sk-container-id-13 div.sk-label:hover label.sk-toggleable__label {background-color: #d4ebff;}#sk-container-id-13 div.sk-serial::before {content: \"\";position: absolute;border-left: 1px solid gray;box-sizing: border-box;top: 0;bottom: 0;left: 50%;z-index: 0;}#sk-container-id-13 div.sk-serial {display: flex;flex-direction: column;align-items: center;background-color: white;padding-right: 0.2em;padding-left: 0.2em;position: relative;}#sk-container-id-13 div.sk-item {position: relative;z-index: 1;}#sk-container-id-13 div.sk-parallel {display: flex;align-items: stretch;justify-content: center;background-color: white;position: relative;}#sk-container-id-13 div.sk-item::before, #sk-container-id-13 div.sk-parallel-item::before {content: \"\";position: absolute;border-left: 1px solid gray;box-sizing: border-box;top: 0;bottom: 0;left: 50%;z-index: -1;}#sk-container-id-13 div.sk-parallel-item {display: flex;flex-direction: column;z-index: 1;position: relative;background-color: white;}#sk-container-id-13 div.sk-parallel-item:first-child::after {align-self: flex-end;width: 50%;}#sk-container-id-13 div.sk-parallel-item:last-child::after {align-self: flex-start;width: 50%;}#sk-container-id-13 div.sk-parallel-item:only-child::after {width: 0;}#sk-container-id-13 div.sk-dashed-wrapped {border: 1px dashed gray;margin: 0 0.4em 0.5em 0.4em;box-sizing: border-box;padding-bottom: 0.4em;background-color: white;}#sk-container-id-13 div.sk-label label {font-family: monospace;font-weight: bold;display: inline-block;line-height: 1.2em;}#sk-container-id-13 div.sk-label-container {text-align: center;}#sk-container-id-13 div.sk-container {/* jupyter's `normalize.less` sets `[hidden] { display: none; }` but bootstrap.min.css set `[hidden] { display: none !important; }` so we also need the `!important` here to be able to override the default hidden behavior on the sphinx rendered scikit-learn.org. See: https://github.com/scikit-learn/scikit-learn/issues/21755 */display: inline-block !important;position: relative;}#sk-container-id-13 div.sk-text-repr-fallback {display: none;}</style><div id=\"sk-container-id-13\" class=\"sk-top-container\"><div class=\"sk-text-repr-fallback\"><pre>StandardScaler()</pre><b>In a Jupyter environment, please rerun this cell to show the HTML representation or trust the notebook. <br />On GitHub, the HTML representation is unable to render, please try loading this page with nbviewer.org.</b></div><div class=\"sk-container\" hidden><div class=\"sk-item\"><div class=\"sk-estimator sk-toggleable\"><input class=\"sk-toggleable__control sk-hidden--visually\" id=\"sk-estimator-id-13\" type=\"checkbox\" checked><label for=\"sk-estimator-id-13\" class=\"sk-toggleable__label sk-toggleable__label-arrow\">StandardScaler</label><div class=\"sk-toggleable__content\"><pre>StandardScaler()</pre></div></div></div></div></div>"
      ],
      "text/plain": [
       "StandardScaler()"
      ]
     },
     "execution_count": 176,
     "metadata": {},
     "output_type": "execute_result"
    }
   ],
   "source": [
    "scaler.fit(X)"
   ]
  },
  {
   "cell_type": "code",
   "execution_count": 177,
   "metadata": {},
   "outputs": [],
   "source": [
    "scaled_data = scaler.transform(X)"
   ]
  },
  {
   "cell_type": "code",
   "execution_count": 178,
   "metadata": {},
   "outputs": [
    {
     "data": {
      "text/html": [
       "<style>#sk-container-id-14 {color: black;background-color: white;}#sk-container-id-14 pre{padding: 0;}#sk-container-id-14 div.sk-toggleable {background-color: white;}#sk-container-id-14 label.sk-toggleable__label {cursor: pointer;display: block;width: 100%;margin-bottom: 0;padding: 0.3em;box-sizing: border-box;text-align: center;}#sk-container-id-14 label.sk-toggleable__label-arrow:before {content: \"▸\";float: left;margin-right: 0.25em;color: #696969;}#sk-container-id-14 label.sk-toggleable__label-arrow:hover:before {color: black;}#sk-container-id-14 div.sk-estimator:hover label.sk-toggleable__label-arrow:before {color: black;}#sk-container-id-14 div.sk-toggleable__content {max-height: 0;max-width: 0;overflow: hidden;text-align: left;background-color: #f0f8ff;}#sk-container-id-14 div.sk-toggleable__content pre {margin: 0.2em;color: black;border-radius: 0.25em;background-color: #f0f8ff;}#sk-container-id-14 input.sk-toggleable__control:checked~div.sk-toggleable__content {max-height: 200px;max-width: 100%;overflow: auto;}#sk-container-id-14 input.sk-toggleable__control:checked~label.sk-toggleable__label-arrow:before {content: \"▾\";}#sk-container-id-14 div.sk-estimator input.sk-toggleable__control:checked~label.sk-toggleable__label {background-color: #d4ebff;}#sk-container-id-14 div.sk-label input.sk-toggleable__control:checked~label.sk-toggleable__label {background-color: #d4ebff;}#sk-container-id-14 input.sk-hidden--visually {border: 0;clip: rect(1px 1px 1px 1px);clip: rect(1px, 1px, 1px, 1px);height: 1px;margin: -1px;overflow: hidden;padding: 0;position: absolute;width: 1px;}#sk-container-id-14 div.sk-estimator {font-family: monospace;background-color: #f0f8ff;border: 1px dotted black;border-radius: 0.25em;box-sizing: border-box;margin-bottom: 0.5em;}#sk-container-id-14 div.sk-estimator:hover {background-color: #d4ebff;}#sk-container-id-14 div.sk-parallel-item::after {content: \"\";width: 100%;border-bottom: 1px solid gray;flex-grow: 1;}#sk-container-id-14 div.sk-label:hover label.sk-toggleable__label {background-color: #d4ebff;}#sk-container-id-14 div.sk-serial::before {content: \"\";position: absolute;border-left: 1px solid gray;box-sizing: border-box;top: 0;bottom: 0;left: 50%;z-index: 0;}#sk-container-id-14 div.sk-serial {display: flex;flex-direction: column;align-items: center;background-color: white;padding-right: 0.2em;padding-left: 0.2em;position: relative;}#sk-container-id-14 div.sk-item {position: relative;z-index: 1;}#sk-container-id-14 div.sk-parallel {display: flex;align-items: stretch;justify-content: center;background-color: white;position: relative;}#sk-container-id-14 div.sk-item::before, #sk-container-id-14 div.sk-parallel-item::before {content: \"\";position: absolute;border-left: 1px solid gray;box-sizing: border-box;top: 0;bottom: 0;left: 50%;z-index: -1;}#sk-container-id-14 div.sk-parallel-item {display: flex;flex-direction: column;z-index: 1;position: relative;background-color: white;}#sk-container-id-14 div.sk-parallel-item:first-child::after {align-self: flex-end;width: 50%;}#sk-container-id-14 div.sk-parallel-item:last-child::after {align-self: flex-start;width: 50%;}#sk-container-id-14 div.sk-parallel-item:only-child::after {width: 0;}#sk-container-id-14 div.sk-dashed-wrapped {border: 1px dashed gray;margin: 0 0.4em 0.5em 0.4em;box-sizing: border-box;padding-bottom: 0.4em;background-color: white;}#sk-container-id-14 div.sk-label label {font-family: monospace;font-weight: bold;display: inline-block;line-height: 1.2em;}#sk-container-id-14 div.sk-label-container {text-align: center;}#sk-container-id-14 div.sk-container {/* jupyter's `normalize.less` sets `[hidden] { display: none; }` but bootstrap.min.css set `[hidden] { display: none !important; }` so we also need the `!important` here to be able to override the default hidden behavior on the sphinx rendered scikit-learn.org. See: https://github.com/scikit-learn/scikit-learn/issues/21755 */display: inline-block !important;position: relative;}#sk-container-id-14 div.sk-text-repr-fallback {display: none;}</style><div id=\"sk-container-id-14\" class=\"sk-top-container\"><div class=\"sk-text-repr-fallback\"><pre>PCA(n_components=2)</pre><b>In a Jupyter environment, please rerun this cell to show the HTML representation or trust the notebook. <br />On GitHub, the HTML representation is unable to render, please try loading this page with nbviewer.org.</b></div><div class=\"sk-container\" hidden><div class=\"sk-item\"><div class=\"sk-estimator sk-toggleable\"><input class=\"sk-toggleable__control sk-hidden--visually\" id=\"sk-estimator-id-14\" type=\"checkbox\" checked><label for=\"sk-estimator-id-14\" class=\"sk-toggleable__label sk-toggleable__label-arrow\">PCA</label><div class=\"sk-toggleable__content\"><pre>PCA(n_components=2)</pre></div></div></div></div></div>"
      ],
      "text/plain": [
       "PCA(n_components=2)"
      ]
     },
     "execution_count": 178,
     "metadata": {},
     "output_type": "execute_result"
    }
   ],
   "source": [
    "from sklearn.decomposition import PCA\n",
    "pca = PCA(n_components=2)\n",
    "pca.fit(scaled_data)"
   ]
  },
  {
   "cell_type": "code",
   "execution_count": 179,
   "metadata": {},
   "outputs": [],
   "source": [
    "x_pca = pca.transform(scaled_data)"
   ]
  },
  {
   "cell_type": "code",
   "execution_count": 180,
   "metadata": {},
   "outputs": [
    {
     "data": {
      "text/plain": [
       "Text(0, 0.5, 'Second Principal Component')"
      ]
     },
     "execution_count": 180,
     "metadata": {},
     "output_type": "execute_result"
    },
    {
     "data": {
      "image/png": "[encoded data removed]",
      "text/plain": [
       "<Figure size 800x600 with 1 Axes>"
      ]
     },
     "metadata": {},
     "output_type": "display_data"
    }
   ],
   "source": [
    "plt.figure(figsize=(8,6))\n",
    "plt.scatter(x_pca[:,0],x_pca[:,1],c=pregame_epl_data['Result'],cmap='plasma')\n",
    "plt.xlabel('First principal component')\n",
    "plt.ylabel('Second Principal Component')"
   ]
  },
  {
   "cell_type": "code",
   "execution_count": 181,
   "metadata": {},
   "outputs": [
    {
     "data": {
      "text/plain": [
       "array([[ 0.19028142, -0.11471319,  0.16851771, -0.10727858,  0.18518653,\n",
       "        -0.10959763,  0.19233658, -0.11363123, -0.05076269,  0.03356282,\n",
       "         0.19498413, -0.11573334, -0.14483093,  0.1766833 ,  0.24048215,\n",
       "        -0.14337327,  0.17661955,  0.23950624, -0.1434732 ,  0.17351413,\n",
       "         0.24105049, -0.14192867,  0.1788998 ,  0.23984832, -0.14206628,\n",
       "         0.1748888 ,  0.2405897 , -0.13937772,  0.1774593 ,  0.23991781,\n",
       "        -0.13829431,  0.16963917,  0.23823207],\n",
       "       [ 0.04768327,  0.21632122,  0.03518624,  0.18846432,  0.04731093,\n",
       "         0.2164789 ,  0.05585353,  0.21975772, -0.00321026, -0.05395666,\n",
       "         0.04897252,  0.22254477,  0.24754778,  0.21126035,  0.03331972,\n",
       "         0.24792401,  0.21143455,  0.0362115 ,  0.24763936,  0.21670997,\n",
       "         0.03401869,  0.24918326,  0.20971069,  0.04123676,  0.25078498,\n",
       "         0.21479506,  0.03923166,  0.25187673,  0.21050685,  0.0409764 ,\n",
       "         0.24571634,  0.21260687,  0.03888731]])"
      ]
     },
     "execution_count": 181,
     "metadata": {},
     "output_type": "execute_result"
    }
   ],
   "source": [
    "pca.components_"
   ]
  },
  {
   "cell_type": "code",
   "execution_count": 182,
   "metadata": {},
   "outputs": [],
   "source": [
    "\n",
    "col = pregame_epl_data.columns.drop(['Date', 'Result'])\n",
    "df_comp = pd.DataFrame(pca.components_,columns=col)"
   ]
  },
  {
   "cell_type": "code",
   "execution_count": 183,
   "metadata": {},
   "outputs": [
    {
     "data": {
      "text/plain": [
       "<Axes: >"
      ]
     },
     "execution_count": 183,
     "metadata": {},
     "output_type": "execute_result"
    },
    {
     "data": {
      "image/png": "[encoded data removed]",
      "text/plain": [
       "<Figure size 1200x600 with 2 Axes>"
      ]
     },
     "metadata": {},
     "output_type": "display_data"
    }
   ],
   "source": [
    "plt.figure(figsize=(12,6))\n",
    "sns.heatmap(df_comp,cmap='plasma')"
   ]
  },
  {
   "cell_type": "markdown",
   "metadata": {},
   "source": [
    "This plot allows us to see which components had an effect on the outcome. We can see that the Home odds components are all very correlated with each other (and likewise the draw odds components with each other and the away odds components with each other)."
   ]
  },
  {
   "cell_type": "markdown",
   "metadata": {},
   "source": [
    "## Deep Learning"
   ]
  },
  {
   "cell_type": "code",
   "execution_count": 184,
   "metadata": {},
   "outputs": [],
   "source": [
    "import tensorflow.compat.v1 as tf\n",
    "tf.disable_v2_behavior()"
   ]
  },
  {
   "cell_type": "code",
   "execution_count": 237,
   "metadata": {},
   "outputs": [],
   "source": [
    "scaled_features = scaler.fit_transform(X)"
   ]
  },
  {
   "cell_type": "code",
   "execution_count": 238,
   "metadata": {},
   "outputs": [
    {
     "data": {
      "text/html": [
       "<div>\n",
       "<style scoped>\n",
       "    .dataframe tbody tr th:only-of-type {\n",
       "        vertical-align: middle;\n",
       "    }\n",
       "\n",
       "    .dataframe tbody tr th {\n",
       "        vertical-align: top;\n",
       "    }\n",
       "\n",
       "    .dataframe thead th {\n",
       "        text-align: right;\n",
       "    }\n",
       "</style>\n",
       "<table border=\"1\" class=\"dataframe\">\n",
       "  <thead>\n",
       "    <tr style=\"text-align: right;\">\n",
       "      <th></th>\n",
       "      <th>HTOa</th>\n",
       "      <th>ATOa</th>\n",
       "      <th>HTAt</th>\n",
       "      <th>ATAt</th>\n",
       "      <th>HTMid</th>\n",
       "      <th>ATMid</th>\n",
       "      <th>HTDef</th>\n",
       "      <th>ATDef</th>\n",
       "      <th>HomeAvgAge</th>\n",
       "      <th>AwayAvgAge</th>\n",
       "      <th>...</th>\n",
       "      <th>PSA</th>\n",
       "      <th>WHH</th>\n",
       "      <th>WHD</th>\n",
       "      <th>WHA</th>\n",
       "      <th>VCH</th>\n",
       "      <th>VCD</th>\n",
       "      <th>VCA</th>\n",
       "      <th>PSCH</th>\n",
       "      <th>PSCD</th>\n",
       "      <th>PSCA</th>\n",
       "    </tr>\n",
       "  </thead>\n",
       "  <tbody>\n",
       "    <tr>\n",
       "      <th>0</th>\n",
       "      <td>-1.583373</td>\n",
       "      <td>0.157285</td>\n",
       "      <td>-1.670640</td>\n",
       "      <td>0.713188</td>\n",
       "      <td>-1.482275</td>\n",
       "      <td>0.376910</td>\n",
       "      <td>-1.071760</td>\n",
       "      <td>-0.227141</td>\n",
       "      <td>-0.538816</td>\n",
       "      <td>-1.436842</td>\n",
       "      <td>...</td>\n",
       "      <td>-0.610119</td>\n",
       "      <td>0.378625</td>\n",
       "      <td>-0.549230</td>\n",
       "      <td>-0.640774</td>\n",
       "      <td>0.389884</td>\n",
       "      <td>-0.534042</td>\n",
       "      <td>-0.606725</td>\n",
       "      <td>0.279046</td>\n",
       "      <td>-0.665557</td>\n",
       "      <td>-0.606286</td>\n",
       "    </tr>\n",
       "    <tr>\n",
       "      <th>1</th>\n",
       "      <td>1.321898</td>\n",
       "      <td>-0.717375</td>\n",
       "      <td>0.950513</td>\n",
       "      <td>-0.352737</td>\n",
       "      <td>1.432076</td>\n",
       "      <td>-0.424727</td>\n",
       "      <td>1.495061</td>\n",
       "      <td>-0.512948</td>\n",
       "      <td>0.359211</td>\n",
       "      <td>-1.436842</td>\n",
       "      <td>...</td>\n",
       "      <td>0.195407</td>\n",
       "      <td>-0.625191</td>\n",
       "      <td>0.219657</td>\n",
       "      <td>0.221262</td>\n",
       "      <td>-0.592633</td>\n",
       "      <td>0.196495</td>\n",
       "      <td>0.247603</td>\n",
       "      <td>-0.567821</td>\n",
       "      <td>-0.089840</td>\n",
       "      <td>0.088866</td>\n",
       "    </tr>\n",
       "    <tr>\n",
       "      <th>2</th>\n",
       "      <td>-0.711791</td>\n",
       "      <td>-1.008928</td>\n",
       "      <td>-1.146410</td>\n",
       "      <td>-1.152181</td>\n",
       "      <td>-0.687452</td>\n",
       "      <td>-0.959151</td>\n",
       "      <td>-0.216153</td>\n",
       "      <td>-0.512948</td>\n",
       "      <td>2.155264</td>\n",
       "      <td>-0.538816</td>\n",
       "      <td>...</td>\n",
       "      <td>-0.515351</td>\n",
       "      <td>0.054814</td>\n",
       "      <td>-0.879935</td>\n",
       "      <td>-0.519205</td>\n",
       "      <td>0.016142</td>\n",
       "      <td>-0.753203</td>\n",
       "      <td>-0.510613</td>\n",
       "      <td>0.029090</td>\n",
       "      <td>-0.791288</td>\n",
       "      <td>-0.525503</td>\n",
       "    </tr>\n",
       "    <tr>\n",
       "      <th>3</th>\n",
       "      <td>1.321898</td>\n",
       "      <td>-0.717375</td>\n",
       "      <td>1.212628</td>\n",
       "      <td>-0.619218</td>\n",
       "      <td>1.697017</td>\n",
       "      <td>-0.959151</td>\n",
       "      <td>1.209858</td>\n",
       "      <td>-1.084561</td>\n",
       "      <td>0.359211</td>\n",
       "      <td>0.359211</td>\n",
       "      <td>...</td>\n",
       "      <td>1.592201</td>\n",
       "      <td>-0.734477</td>\n",
       "      <td>1.186968</td>\n",
       "      <td>1.812713</td>\n",
       "      <td>-0.708223</td>\n",
       "      <td>1.182720</td>\n",
       "      <td>1.742677</td>\n",
       "      <td>-0.690934</td>\n",
       "      <td>0.704252</td>\n",
       "      <td>1.279339</td>\n",
       "    </tr>\n",
       "    <tr>\n",
       "      <th>4</th>\n",
       "      <td>0.159790</td>\n",
       "      <td>-0.717375</td>\n",
       "      <td>0.164167</td>\n",
       "      <td>-0.885700</td>\n",
       "      <td>0.107371</td>\n",
       "      <td>-0.691939</td>\n",
       "      <td>0.354251</td>\n",
       "      <td>-0.512948</td>\n",
       "      <td>0.359211</td>\n",
       "      <td>0.359211</td>\n",
       "      <td>...</td>\n",
       "      <td>-0.187784</td>\n",
       "      <td>-0.451142</td>\n",
       "      <td>-0.549230</td>\n",
       "      <td>-0.176601</td>\n",
       "      <td>-0.438513</td>\n",
       "      <td>-0.534042</td>\n",
       "      <td>-0.158202</td>\n",
       "      <td>-0.426055</td>\n",
       "      <td>-0.586148</td>\n",
       "      <td>-0.193872</td>\n",
       "    </tr>\n",
       "  </tbody>\n",
       "</table>\n",
       "<p>5 rows × 33 columns</p>\n",
       "</div>"
      ],
      "text/plain": [
       "       HTOa      ATOa      HTAt      ATAt     HTMid     ATMid     HTDef   \n",
       "0 -1.583373  0.157285 -1.670640  0.713188 -1.482275  0.376910 -1.071760  \\\n",
       "1  1.321898 -0.717375  0.950513 -0.352737  1.432076 -0.424727  1.495061   \n",
       "2 -0.711791 -1.008928 -1.146410 -1.152181 -0.687452 -0.959151 -0.216153   \n",
       "3  1.321898 -0.717375  1.212628 -0.619218  1.697017 -0.959151  1.209858   \n",
       "4  0.159790 -0.717375  0.164167 -0.885700  0.107371 -0.691939  0.354251   \n",
       "\n",
       "      ATDef  HomeAvgAge  AwayAvgAge  ...       PSA       WHH       WHD   \n",
       "0 -0.227141   -0.538816   -1.436842  ... -0.610119  0.378625 -0.549230  \\\n",
       "1 -0.512948    0.359211   -1.436842  ...  0.195407 -0.625191  0.219657   \n",
       "2 -0.512948    2.155264   -0.538816  ... -0.515351  0.054814 -0.879935   \n",
       "3 -1.084561    0.359211    0.359211  ...  1.592201 -0.734477  1.186968   \n",
       "4 -0.512948    0.359211    0.359211  ... -0.187784 -0.451142 -0.549230   \n",
       "\n",
       "        WHA       VCH       VCD       VCA      PSCH      PSCD      PSCA  \n",
       "0 -0.640774  0.389884 -0.534042 -0.606725  0.279046 -0.665557 -0.606286  \n",
       "1  0.221262 -0.592633  0.196495  0.247603 -0.567821 -0.089840  0.088866  \n",
       "2 -0.519205  0.016142 -0.753203 -0.510613  0.029090 -0.791288 -0.525503  \n",
       "3  1.812713 -0.708223  1.182720  1.742677 -0.690934  0.704252  1.279339  \n",
       "4 -0.176601 -0.438513 -0.534042 -0.158202 -0.426055 -0.586148 -0.193872  \n",
       "\n",
       "[5 rows x 33 columns]"
      ]
     },
     "execution_count": 238,
     "metadata": {},
     "output_type": "execute_result"
    }
   ],
   "source": [
    "df_feat = pd.DataFrame(scaled_features,columns=X.columns)\n",
    "df_feat.head()"
   ]
  },
  {
   "cell_type": "markdown",
   "metadata": {},
   "source": [
    "We need to once again shift the results such that they are >=0"
   ]
  },
  {
   "cell_type": "code",
   "execution_count": 239,
   "metadata": {},
   "outputs": [],
   "source": [
    "y2 = y+1"
   ]
  },
  {
   "cell_type": "code",
   "execution_count": 240,
   "metadata": {},
   "outputs": [],
   "source": [
    "X_train, X_test, y_train, y_test = train_test_split(df_feat, y2, test_size=0.3)"
   ]
  },
  {
   "cell_type": "code",
   "execution_count": 241,
   "metadata": {},
   "outputs": [
    {
     "data": {
      "text/plain": [
       "Index(['HTOa', 'ATOa', 'HTAt', 'ATAt', 'HTMid', 'ATMid', 'HTDef', 'ATDef',\n",
       "       'HomeAvgAge', 'AwayAvgAge', 'HomeMV', 'AwayMV', 'B365H', 'B365D',\n",
       "       'B365A', 'BWH', 'BWD', 'BWA', 'IWH', 'IWD', 'IWA', 'PSH', 'PSD', 'PSA',\n",
       "       'WHH', 'WHD', 'WHA', 'VCH', 'VCD', 'VCA', 'PSCH', 'PSCD', 'PSCA'],\n",
       "      dtype='object')"
      ]
     },
     "execution_count": 241,
     "metadata": {},
     "output_type": "execute_result"
    }
   ],
   "source": [
    "df_feat.columns"
   ]
  },
  {
   "cell_type": "code",
   "execution_count": 242,
   "metadata": {},
   "outputs": [],
   "source": [
    "HTOa = tf.feature_column.numeric_column(\"HTOa\")\n",
    "ATOa = tf.feature_column.numeric_column(\"ATOa\")\n",
    "HTAt = tf.feature_column.numeric_column(\"HTAt\")\n",
    "ATAt = tf.feature_column.numeric_column(\"ATAt\")\n",
    "HTMid = tf.feature_column.numeric_column(\"HTMid\")\n",
    "ATMid = tf.feature_column.numeric_column(\"ATMid\")\n",
    "HTDef = tf.feature_column.numeric_column(\"HTDef\")\n",
    "ATDef = tf.feature_column.numeric_column(\"ATDef\")\n",
    "HomeAvgAge = tf.feature_column.numeric_column(\"HomeAvgAge\")\n",
    "AwayAvgAge = tf.feature_column.numeric_column(\"AwayAvgAge\")\n",
    "HomeMV = tf.feature_column.numeric_column(\"HomeMV\")\n",
    "AwayMV = tf.feature_column.numeric_column(\"AwayMV\")\n",
    "B365H = tf.feature_column.numeric_column(\"B365H\")\n",
    "B365D = tf.feature_column.numeric_column(\"B365D\")\n",
    "B365A = tf.feature_column.numeric_column(\"B365A\")\n",
    "BWH = tf.feature_column.numeric_column(\"BWH\")\n",
    "BWD = tf.feature_column.numeric_column(\"BWD\")\n",
    "BWA = tf.feature_column.numeric_column(\"BWA\")\n",
    "IWH = tf.feature_column.numeric_column(\"IWH\")\n",
    "IWD = tf.feature_column.numeric_column(\"IWD\")\n",
    "IWA = tf.feature_column.numeric_column(\"IWA\")\n",
    "PSH = tf.feature_column.numeric_column(\"PSH\")\n",
    "PSD = tf.feature_column.numeric_column(\"PSD\")\n",
    "PSA = tf.feature_column.numeric_column(\"PSA\")\n",
    "WHH = tf.feature_column.numeric_column(\"WHH\")\n",
    "WHD = tf.feature_column.numeric_column(\"WHD\")\n",
    "WHA = tf.feature_column.numeric_column(\"WHA\")\n",
    "VCH = tf.feature_column.numeric_column(\"VCH\")\n",
    "VCD = tf.feature_column.numeric_column(\"VCD\")\n",
    "VCA = tf.feature_column.numeric_column(\"VCA\")\n",
    "PSCH = tf.feature_column.numeric_column(\"PSCH\")\n",
    "PSCD = tf.feature_column.numeric_column(\"PSCD\")\n",
    "PSCA = tf.feature_column.numeric_column(\"PSCA\")\n"
   ]
  },
  {
   "cell_type": "code",
   "execution_count": 243,
   "metadata": {},
   "outputs": [],
   "source": [
    "feat_cols = [HTOa, ATOa, HTAt, ATAt, HTMid, ATMid, HTDef, ATDef,\n",
    "       HomeAvgAge, AwayAvgAge, HomeMV, AwayMV, B365H, B365D,\n",
    "       B365A, BWH, BWD, BWA, IWH, IWD, IWA, PSH, PSD, PSA,\n",
    "       WHH, WHD, WHA, VCH, VCD, VCA, PSCH, PSCD, PSCA]"
   ]
  },
  {
   "cell_type": "code",
   "execution_count": 244,
   "metadata": {},
   "outputs": [
    {
     "name": "stdout",
     "output_type": "stream",
     "text": [
      "INFO:tensorflow:Using default config.\n",
      "WARNING:tensorflow:Using temporary folder as model directory: /var/folders/6m/3fmvhz_91338k9ls0pk0r87h0000gp/T/tmp6yaehujo\n",
      "INFO:tensorflow:Using config: {'_model_dir': '/var/folders/6m/3fmvhz_91338k9ls0pk0r87h0000gp/T/tmp6yaehujo', '_tf_random_seed': None, '_save_summary_steps': 100, '_save_checkpoints_steps': None, '_save_checkpoints_secs': 600, '_session_config': allow_soft_placement: true\n",
      "graph_options {\n",
      "  rewrite_options {\n",
      "    meta_optimizer_iterations: ONE\n",
      "  }\n",
      "}\n",
      ", '_keep_checkpoint_max': 5, '_keep_checkpoint_every_n_hours': 10000, '_log_step_count_steps': 100, '_train_distribute': None, '_device_fn': None, '_protocol': None, '_eval_distribute': None, '_experimental_distribute': None, '_experimental_max_worker_delay_secs': None, '_session_creation_timeout_secs': 7200, '_checkpoint_save_graph_def': True, '_service': None, '_cluster_spec': ClusterSpec({}), '_task_type': 'worker', '_task_id': 0, '_global_id_in_cluster': 0, '_master': '', '_evaluation_master': '', '_is_chief': True, '_num_ps_replicas': 0, '_num_worker_replicas': 1}\n"
     ]
    }
   ],
   "source": [
    "estimator = tf.estimator.DNNClassifier(hidden_units=[10, 20, 20, 20, 10], n_classes=3,feature_columns=feat_cols)"
   ]
  },
  {
   "cell_type": "code",
   "execution_count": 245,
   "metadata": {},
   "outputs": [],
   "source": [
    "input_func = tf.estimator.inputs.pandas_input_fn(x=X_train,y=y_train,batch_size=20,shuffle=True)"
   ]
  },
  {
   "cell_type": "code",
   "execution_count": 246,
   "metadata": {},
   "outputs": [
    {
     "name": "stdout",
     "output_type": "stream",
     "text": [
      "INFO:tensorflow:Calling model_fn.\n",
      "INFO:tensorflow:Done calling model_fn.\n",
      "INFO:tensorflow:Create CheckpointSaverHook.\n",
      "INFO:tensorflow:Graph was finalized.\n",
      "INFO:tensorflow:Running local_init_op.\n",
      "INFO:tensorflow:Done running local_init_op.\n",
      "INFO:tensorflow:Calling checkpoint listeners before saving checkpoint 0...\n",
      "INFO:tensorflow:Saving checkpoints for 0 into /var/folders/6m/3fmvhz_91338k9ls0pk0r87h0000gp/T/tmp6yaehujo/model.ckpt.\n",
      "INFO:tensorflow:Calling checkpoint listeners after saving checkpoint 0...\n",
      "INFO:tensorflow:loss = 22.579006, step = 1\n",
      "INFO:tensorflow:Calling checkpoint listeners before saving checkpoint 14...\n",
      "INFO:tensorflow:Saving checkpoints for 14 into /var/folders/6m/3fmvhz_91338k9ls0pk0r87h0000gp/T/tmp6yaehujo/model.ckpt.\n",
      "INFO:tensorflow:Calling checkpoint listeners after saving checkpoint 14...\n",
      "INFO:tensorflow:Loss for final step: 6.3107777.\n"
     ]
    },
    {
     "data": {
      "text/plain": [
       "<tensorflow_estimator.python.estimator.canned.dnn.DNNClassifier at 0x2c3860e50>"
      ]
     },
     "execution_count": 246,
     "metadata": {},
     "output_type": "execute_result"
    }
   ],
   "source": [
    "estimator.train(input_fn=input_func,steps=500)"
   ]
  },
  {
   "cell_type": "code",
   "execution_count": 247,
   "metadata": {},
   "outputs": [],
   "source": [
    "pred_fn = tf.estimator.inputs.pandas_input_fn(x=X_test,batch_size=len(X_test),shuffle=False)"
   ]
  },
  {
   "cell_type": "code",
   "execution_count": 248,
   "metadata": {},
   "outputs": [
    {
     "name": "stdout",
     "output_type": "stream",
     "text": [
      "INFO:tensorflow:Could not find trained model in model_dir: /var/folders/6m/3fmvhz_91338k9ls0pk0r87h0000gp/T/tmpzpsevhpz, running initialization to predict.\n",
      "INFO:tensorflow:Calling model_fn.\n",
      "INFO:tensorflow:Done calling model_fn.\n",
      "INFO:tensorflow:Graph was finalized.\n",
      "INFO:tensorflow:Running local_init_op.\n",
      "INFO:tensorflow:Done running local_init_op.\n"
     ]
    }
   ],
   "source": [
    "note_predictions = list(classifier.predict(input_fn=pred_fn))"
   ]
  },
  {
   "cell_type": "code",
   "execution_count": 249,
   "metadata": {},
   "outputs": [],
   "source": [
    "final_preds  = []\n",
    "for pred in note_predictions:\n",
    "    final_preds.append(pred['class_ids'][0])"
   ]
  },
  {
   "cell_type": "code",
   "execution_count": 250,
   "metadata": {},
   "outputs": [
    {
     "name": "stdout",
     "output_type": "stream",
     "text": [
      "[[23  0 13]\n",
      " [16  0 12]\n",
      " [39  0 11]]\n"
     ]
    }
   ],
   "source": [
    "print(confusion_matrix(y_test,final_preds))"
   ]
  },
  {
   "cell_type": "code",
   "execution_count": 251,
   "metadata": {},
   "outputs": [
    {
     "name": "stdout",
     "output_type": "stream",
     "text": [
      "              precision    recall  f1-score   support\n",
      "\n",
      "           0       0.29      0.64      0.40        36\n",
      "           1       0.00      0.00      0.00        28\n",
      "           2       0.31      0.22      0.26        50\n",
      "\n",
      "    accuracy                           0.30       114\n",
      "   macro avg       0.20      0.29      0.22       114\n",
      "weighted avg       0.23      0.30      0.24       114\n",
      "\n"
     ]
    },
    {
     "name": "stderr",
     "output_type": "stream",
     "text": [
      "/Library/Frameworks/Python.framework/Versions/3.11/lib/python3.11/site-packages/sklearn/metrics/_classification.py:1344: UndefinedMetricWarning: Precision and F-score are ill-defined and being set to 0.0 in labels with no predicted samples. Use `zero_division` parameter to control this behavior.\n",
      "  _warn_prf(average, modifier, msg_start, len(result))\n",
      "/Library/Frameworks/Python.framework/Versions/3.11/lib/python3.11/site-packages/sklearn/metrics/_classification.py:1344: UndefinedMetricWarning: Precision and F-score are ill-defined and being set to 0.0 in labels with no predicted samples. Use `zero_division` parameter to control this behavior.\n",
      "  _warn_prf(average, modifier, msg_start, len(result))\n",
      "/Library/Frameworks/Python.framework/Versions/3.11/lib/python3.11/site-packages/sklearn/metrics/_classification.py:1344: UndefinedMetricWarning: Precision and F-score are ill-defined and being set to 0.0 in labels with no predicted samples. Use `zero_division` parameter to control this behavior.\n",
      "  _warn_prf(average, modifier, msg_start, len(result))\n"
     ]
    }
   ],
   "source": [
    "print(classification_report(y_test,final_preds))"
   ]
  },
  {
   "cell_type": "markdown",
   "metadata": {},
   "source": [
    "These predictions are extremely bad. I want to continue digging into the code and figure out why it is not predicting any draws."
   ]
  }
 ],
 "metadata": {
  "kernelspec": {
   "display_name": "Python 3.11.2 64-bit",
   "language": "python",
   "name": "python3"
  },
  "language_info": {
   "codemirror_mode": {
    "name": "ipython",
    "version": 3
   },
   "file_extension": ".py",
   "mimetype": "text/x-python",
   "name": "python",
   "nbconvert_exporter": "python",
   "pygments_lexer": "ipython3",
   "version": "3.11.2"
  },
  "orig_nbformat": 4,
  "vscode": {
   "interpreter": {
    "hash": "aee8b7b246df8f9039afb4144a1f6fd8d2ca17a180786b69acc140d282b71a49"
   }
  }
 },
 "nbformat": 4,
 "nbformat_minor": 2
}
